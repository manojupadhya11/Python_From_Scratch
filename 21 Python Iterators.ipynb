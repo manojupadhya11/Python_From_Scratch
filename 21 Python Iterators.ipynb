{
 "cells": [
  {
   "cell_type": "code",
   "execution_count": null,
   "id": "7322c253",
   "metadata": {},
   "outputs": [],
   "source": [
    "#Python Iterators\n",
    "\"\"\"\n",
    "An iterator an object that contains a countable number of values\n",
    "\n",
    "An iterator is an object that can be iterated upon, meaning that you can traverse through all the values.\n",
    "\n",
    "Technically, in Python, an iterator is an object which implements the iterator protocol, \n",
    "which consist of the methods __iter__() and __next__().\n",
    "\"\"\""
   ]
  },
  {
   "cell_type": "code",
   "execution_count": 3,
   "id": "2532e6b9",
   "metadata": {},
   "outputs": [
    {
     "name": "stdout",
     "output_type": "stream",
     "text": [
      "apple\n",
      "banana\n",
      "cherry\n"
     ]
    }
   ],
   "source": [
    "#Iterator  VS Iterable\n",
    "\"\"\"\n",
    "Lists, tuples, dictionaries, and sets are all iterable objects. \n",
    "They are iterable containers which you can get an iterator from.\n",
    "\n",
    "All these objects have a iter() method which is used to get an iterator:\n",
    "\"\"\"\n",
    "mytuple = (\"apple\", \"banana\", \"cherry\")\n",
    "myit = iter(mytuple)\n",
    "\n",
    "print(next(myit))\n",
    "print(next(myit))\n",
    "print(next(myit))\n"
   ]
  },
  {
   "cell_type": "code",
   "execution_count": 5,
   "id": "a52667c7",
   "metadata": {},
   "outputs": [
    {
     "name": "stdout",
     "output_type": "stream",
     "text": [
      "b\n",
      "a\n",
      "n\n",
      "a\n",
      "n\n",
      "a\n"
     ]
    }
   ],
   "source": [
    "#Even strings are iterable objects, and can return an iterator:\n",
    "mystring = \"banana\"\n",
    "myst = iter(mystring)\n",
    "\n",
    "print(next(myst))\n",
    "print(next(myst))\n",
    "print(next(myst))\n",
    "print(next(myst))\n",
    "print(next(myst))\n",
    "print(next(myst))"
   ]
  },
  {
   "cell_type": "code",
   "execution_count": 7,
   "id": "2256be3d",
   "metadata": {},
   "outputs": [
    {
     "name": "stdout",
     "output_type": "stream",
     "text": [
      "b\n",
      "a\n",
      "n\n",
      "a\n",
      "n\n",
      "a\n"
     ]
    }
   ],
   "source": [
    "#Looping through iterator\n",
    "#We can also use for loop to loop through iterator\n",
    "#The for loop actually creates an iterator object and executes the next() method for each loop.\n",
    "str = 'banana'\n",
    "for x in str:\n",
    "    print(x)"
   ]
  },
  {
   "cell_type": "code",
   "execution_count": 8,
   "id": "37c5ac9a",
   "metadata": {},
   "outputs": [
    {
     "name": "stdout",
     "output_type": "stream",
     "text": [
      "Manoj\n",
      "Shreya\n",
      "Saanvi\n"
     ]
    }
   ],
   "source": [
    "mytuple = (\"Manoj\",\"Shreya\",\"Saanvi\")\n",
    "for x in mytuple:\n",
    "    print(x)"
   ]
  },
  {
   "cell_type": "code",
   "execution_count": null,
   "id": "24d94262",
   "metadata": {},
   "outputs": [],
   "source": []
  }
 ],
 "metadata": {
  "kernelspec": {
   "display_name": "Python 3 (ipykernel)",
   "language": "python",
   "name": "python3"
  },
  "language_info": {
   "codemirror_mode": {
    "name": "ipython",
    "version": 3
   },
   "file_extension": ".py",
   "mimetype": "text/x-python",
   "name": "python",
   "nbconvert_exporter": "python",
   "pygments_lexer": "ipython3",
   "version": "3.9.7"
  }
 },
 "nbformat": 4,
 "nbformat_minor": 5
}
