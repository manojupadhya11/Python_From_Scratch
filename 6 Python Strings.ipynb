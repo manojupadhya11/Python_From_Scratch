{
 "cells": [
  {
   "cell_type": "code",
   "execution_count": 3,
   "id": "410d6853",
   "metadata": {},
   "outputs": [
    {
     "name": "stdout",
     "output_type": "stream",
     "text": [
      "Manoj\n",
      "<class 'str'>\n"
     ]
    }
   ],
   "source": [
    "#STRINGS\n",
    "\"\"\"\n",
    "Strings in python are included with win either single quotes or double quotes\n",
    "\"hello\" is Same as 'hello'\n",
    "we can display astring using print() function\n",
    "\"\"\"\n",
    "#Assigning String to a variable\n",
    "X = \"Manoj\"\n",
    "print(X)\n",
    "print(type(X))"
   ]
  },
  {
   "cell_type": "code",
   "execution_count": 4,
   "id": "14da49b4",
   "metadata": {},
   "outputs": [
    {
     "name": "stdout",
     "output_type": "stream",
     "text": [
      "My name \n",
      "is \n",
      "Manoj\n",
      "Upadhya\n"
     ]
    }
   ],
   "source": [
    "#Multi line Strings assignement using three doublt quotes or three single quotes as below.\n",
    "Y = \"\"\"My name \n",
    "is \n",
    "Manoj\n",
    "Upadhya\"\"\"\n",
    "print(Y)"
   ]
  },
  {
   "cell_type": "code",
   "execution_count": 6,
   "id": "2a9217ae",
   "metadata": {},
   "outputs": [
    {
     "name": "stdout",
     "output_type": "stream",
     "text": [
      "e\n"
     ]
    }
   ],
   "source": [
    "#STRINGS as Arrays\n",
    "\"\"\"\n",
    "Strings in Python are array of by bytes representing unicode characters.\n",
    "However, Python does not have a character data type, a single character is simply a string with a length of 1.\n",
    "Square brackets can be used to access elements of the string.\n",
    "\"\"\"\n",
    "\n",
    "A = \"Hello World !!\"\n",
    "print(A[1])"
   ]
  },
  {
   "cell_type": "code",
   "execution_count": 7,
   "id": "ba8f0bba",
   "metadata": {},
   "outputs": [
    {
     "name": "stdout",
     "output_type": "stream",
     "text": [
      "b\n",
      "a\n",
      "n\n",
      "a\n",
      "n\n",
      "a\n"
     ]
    }
   ],
   "source": [
    "#Looping through STRINGS\n",
    "\"\"\" \n",
    "Since Strings are Arrays we can loop through each character in strings using for loop\n",
    "\"\"\"\n",
    "for x in \"banana\":\n",
    "    print(x)"
   ]
  },
  {
   "cell_type": "code",
   "execution_count": 9,
   "id": "7e7b9270",
   "metadata": {},
   "outputs": [
    {
     "name": "stdout",
     "output_type": "stream",
     "text": [
      "5\n"
     ]
    }
   ],
   "source": [
    "#String Length\n",
    "\"\"\" to get length of  a string we can use len() function\"\"\"\n",
    "S = \"Manoj\"\n",
    "print(len(S))"
   ]
  },
  {
   "cell_type": "code",
   "execution_count": 13,
   "id": "071a218a",
   "metadata": {},
   "outputs": [
    {
     "name": "stdout",
     "output_type": "stream",
     "text": [
      "True\n",
      "Yes, 'free' is present.\n"
     ]
    }
   ],
   "source": [
    "#Check String\n",
    "\"\"\" to check if a certain phrase or character present in a string, we can use the keyword in\"\"\"\n",
    "txt = \"The best things in life are free!\"\n",
    "print(\"free\" in txt)\n",
    "\n",
    "#Using it in an if statement\n",
    "txt = \"The best things in life are free!\"\n",
    "if \"free\" in txt:\n",
    "  print(\"Yes, 'free' is present.\")\n",
    "\n"
   ]
  },
  {
   "cell_type": "code",
   "execution_count": 15,
   "id": "6826fdbe",
   "metadata": {},
   "outputs": [
    {
     "name": "stdout",
     "output_type": "stream",
     "text": [
      "True\n",
      "Yes, 'Manoj' is not present.\n"
     ]
    }
   ],
   "source": [
    "#Check if NOT\n",
    "\"\"\"\n",
    "To check if a certain phrase or character is NOT present in a string, we can use the keyword not in.\n",
    "\"\"\"\n",
    "txt = \"The best things in life are free!\"\n",
    "print(\"Manoj\" not in txt)\n",
    "\n",
    "#Using it in an if statement\n",
    "txt = \"The best things in life are free!\"\n",
    "if \"Manoj\" not in txt:\n",
    "  print(\"Yes, 'Manoj' is not present.\")\n"
   ]
  },
  {
   "cell_type": "code",
   "execution_count": 17,
   "id": "705a26e5",
   "metadata": {},
   "outputs": [],
   "source": [
    "#                                        PYTHON SLICING STRINGS"
   ]
  },
  {
   "cell_type": "code",
   "execution_count": 30,
   "id": "4cbf0c63",
   "metadata": {},
   "outputs": [
    {
     "name": "stdout",
     "output_type": "stream",
     "text": [
      "noj\n",
      "M\n",
      "Manoj\n",
      "Manoj Upadhya is a Software Engineer\n",
      "Manoj Upadhya is a Software Engineer\n",
      "ine\n",
      "Manoj Upadhya is a Software Eng\n"
     ]
    }
   ],
   "source": [
    "#Slicing\n",
    "\"\"\"\n",
    "We can return Range of characters by using Slice Syntax\n",
    "Specify the start index and the end index, separated by a colon, to return a part of the string.\n",
    "\"\"\"\n",
    "txt  =\"Manoj Upadhya is a Software Engineer\"\n",
    "#Get the characters from position 2 to position 5 (not included):\n",
    "print(txt[2:5])\n",
    "\n",
    "#Note: The first character has index 0 .below print prints first letter only(till 1 index not including first index)\n",
    "print(txt[0:1])\n",
    "\n",
    "#Slice from the start, By leaving out the start index, the range will start at the first character:\n",
    "#Get the chracters from start to position 5(not including 5)\n",
    "print(txt[:5])\n",
    "print(txt[:]) #prints whole Strings\n",
    "\n",
    "#Slice to the End, By leaving out the end index, the range will go to the end:\n",
    "print(txt[0:])\n",
    "\n",
    "\n",
    "#Negative Indexing\n",
    "\"\"\" Use negative indexes to start the slice from the end of the string:\n",
    "From: from i (-5 from last)\n",
    "To: e (-3 position e) -2 position not included\n",
    "from -5 to -2 not including -2\n",
    "\"\"\"\n",
    "print(txt[-5:-2])\n",
    "print(txt[:-5]) #from begining to -5th position not including -5 "
   ]
  },
  {
   "cell_type": "code",
   "execution_count": 40,
   "id": "91e46d29",
   "metadata": {},
   "outputs": [
    {
     "name": "stdout",
     "output_type": "stream",
     "text": [
      "MANOJ UPADHYA IS, A SOFTWARE ENGINEER\n",
      " swathi is an hr professional \n",
      "SWATHI IS AN HR PROFESSIONAL\n",
      " MANU IS AN HR PROFESSIONAL \n",
      "['Manoj Upadhya is', ' a Software Engineer']\n"
     ]
    },
    {
     "ename": "AttributeError",
     "evalue": "'str' object has no attribute 'concatenate'",
     "output_type": "error",
     "traceback": [
      "\u001b[1;31m---------------------------------------------------------------------------\u001b[0m",
      "\u001b[1;31mAttributeError\u001b[0m                            Traceback (most recent call last)",
      "\u001b[1;32m~\\AppData\\Local\\Temp/ipykernel_16916/3032178872.py\u001b[0m in \u001b[0;36m<module>\u001b[1;34m\u001b[0m\n\u001b[0;32m     38\u001b[0m \u001b[1;33m\u001b[0m\u001b[0m\n\u001b[0;32m     39\u001b[0m \u001b[1;33m\u001b[0m\u001b[0m\n\u001b[1;32m---> 40\u001b[1;33m \u001b[0mprint\u001b[0m\u001b[1;33m(\u001b[0m\u001b[0mtxt\u001b[0m\u001b[1;33m.\u001b[0m\u001b[0mconcatenate\u001b[0m\u001b[1;33m(\u001b[0m\u001b[0mtxtU\u001b[0m\u001b[1;33m)\u001b[0m\u001b[1;33m)\u001b[0m\u001b[1;33m\u001b[0m\u001b[1;33m\u001b[0m\u001b[0m\n\u001b[0m",
      "\u001b[1;31mAttributeError\u001b[0m: 'str' object has no attribute 'concatenate'"
     ]
    }
   ],
   "source": [
    "#                        Python Modify Strings              \n",
    "\"\"\" \n",
    "Python has a set of built in methods that we can use on python strings\n",
    "upper()\n",
    "lower()\n",
    "strip()\n",
    "split()\n",
    "replace()\n",
    "\n",
    "\"\"\"\n",
    "#upper() to convert String to Upper case\n",
    "txt = \"Manoj Upadhya is, a Software Engineer\"\n",
    "print(txt.upper())\n",
    "\n",
    "#lowe() to convert strings from upper case to lower case\n",
    "txtU = \" SWATHI IS AN HR PROFESSIONAL \"\n",
    "print(txtU.lower())\n",
    "\n",
    "#Remove White Space using strip()\n",
    "\"\"\" \n",
    "Whitespace is the space before and/or after the actual text, \n",
    "and very often you want to remove this space.\n",
    "\"\"\"\n",
    "print(txtU.strip())\n",
    "\n",
    "#Replace String\n",
    "\"\"\"\n",
    "The replace() method replaces a string with another string:\n",
    "\"\"\"\n",
    "print(txtU.replace(\"SWATHI\", \"MANU\"))\n",
    "\n",
    "#Split String\n",
    "\"\"\"\n",
    "The split() method returns a list where the text between the specified separator becomes the list items.\n",
    "\n",
    "\"\"\"\n",
    "print(txt.split(\",\"))\n",
    "\n"
   ]
  },
  {
   "cell_type": "code",
   "execution_count": 41,
   "id": "1445453f",
   "metadata": {},
   "outputs": [
    {
     "name": "stdout",
     "output_type": "stream",
     "text": [
      "Hello worldGood Morning\n",
      "Hello world Good Morning\n"
     ]
    }
   ],
   "source": [
    "#                           String Concatenation\n",
    "\"\"\"\n",
    "To Concatenate or combine two Strings we can use + operator\n",
    "\n",
    "\"\"\"\n",
    "txt1 = \"Hello world\"\n",
    "txt2 = \"Good Morning\"\n",
    "Ctxt = txt1 + txt2\n",
    "C_spacetxt = txt1 + \" \"+ txt2\n",
    "\n",
    "print(Ctxt)\n",
    "print(C_spacetxt)"
   ]
  },
  {
   "cell_type": "code",
   "execution_count": 46,
   "id": "db2b02c5",
   "metadata": {},
   "outputs": [
    {
     "name": "stdout",
     "output_type": "stream",
     "text": [
      "My age is 24 \n",
      "My age is 24 and Mahima's age is 23\n",
      "I want to pay 49.95 dollars for 3 pieces of item 567.\n"
     ]
    }
   ],
   "source": [
    "#                 Python Format Strings\n",
    "\"\"\"\n",
    "we can not combine strings with INT variables, that is numbers, using + Operator it throws a traceback\n",
    "But we can combine strings and numbers by using the format() method!\n",
    "\n",
    "The format() method takes the passed arguments, formats them, and places them in the string where the placeholders {}\n",
    "The format() method takes unlimited number of arguments, and are placed into the respective placeholders:\n",
    "\"\"\"\n",
    "age = 24\n",
    "age2 = 23\n",
    "txt = \"My age is {} \"\n",
    "print(txt.format(age))\n",
    "txt2 = \"My age is {} and Mahima's age is {}\"\n",
    "print(txt2.format(age,age2))\n",
    "\n",
    "#You can use index numbers {0} to be sure the arguments are placed in the correct placeholders\n",
    "quantity = 3\n",
    "itemno = 567\n",
    "price = 49.95\n",
    "myorder = \"I want to pay {2} dollars for {0} pieces of item {1}.\"\n",
    "print(myorder.format(quantity, itemno, price))"
   ]
  },
  {
   "cell_type": "code",
   "execution_count": 48,
   "id": "7a92a561",
   "metadata": {},
   "outputs": [
    {
     "name": "stdout",
     "output_type": "stream",
     "text": [
      "We are the so-called \"Vikings\" from the north.\n"
     ]
    }
   ],
   "source": [
    "#                 Escape Characters\n",
    "\"\"\"\n",
    "To insert characters that are illegal in a string, use an escape character.\n",
    "\n",
    "An escape character is a backslash \\ followed by the character you want to insert.\n",
    "\n",
    "An example of an illegal character is a double quote inside a string that is surrounded by double quotes:\n",
    "txt = \"We are the so-called \"Vikings\" from the north.\" will get traceback\n",
    "\n",
    "Solution for this is\n",
    "\"\"\"\n",
    "txt = \"We are the so-called \\\"Vikings\\\" from the north.\"\n",
    "print(txt) #no Traceback it allows to use \"\" in between Strings \n",
    "\n",
    "#Example for Escapr characters\n",
    "\"\"\"\n",
    "Code\tResult\n",
    "\\'\tSingle Quote\n",
    "\\\\\tBackslash\n",
    "\\n\tNew Line\n",
    "\\r\tCarriage Return\n",
    "\\t\tTab\n",
    "\\b\tBackspace\n",
    "\\f\tForm Feed\n",
    "\\ooo\tOctal value\n",
    "\\xhh\tHex value\n",
    "\"\"\""
   ]
  },
  {
   "cell_type": "code",
   "execution_count": null,
   "id": "4f4206ba",
   "metadata": {},
   "outputs": [],
   "source": [
    "#              String Methods\n",
    "\"\"\"\n",
    "Python has a set of builtin methods that can be used with Strings they are\n",
    "\n",
    "Note: All string methods return new values. They do not change the original string.\n",
    "\n",
    "Method\t            Description\n",
    "capitalize()\tConverts the first character to upper case\n",
    "casefold()\tConverts string into lower case\n",
    "center()\tReturns a centered string\n",
    "count()\tReturns the number of times a specified value occurs in a string\n",
    "encode()\tReturns an encoded version of the string\n",
    "endswith()\tReturns true if the string ends with the specified value\n",
    "expandtabs()\tSets the tab size of the string\n",
    "find()\tSearches the string for a specified value and returns the position of where it was found\n",
    "format()\tFormats specified values in a string\n",
    "format_map()\tFormats specified values in a string\n",
    "index()\tSearches the string for a specified value and returns the position of where it was found\n",
    "isalnum()\tReturns True if all characters in the string are alphanumeric\n",
    "isalpha()\tReturns True if all characters in the string are in the alphabet\n",
    "isascii()\tReturns True if all characters in the string are ascii characters\n",
    "isdecimal()\tReturns True if all characters in the string are decimals\n",
    "isdigit()\tReturns True if all characters in the string are digits\n",
    "isidentifier()\tReturns True if the string is an identifier\n",
    "islower()\tReturns True if all characters in the string are lower case\n",
    "isnumeric()\tReturns True if all characters in the string are numeric\n",
    "isprintable()\tReturns True if all characters in the string are printable\n",
    "isspace()\tReturns True if all characters in the string are whitespaces\n",
    "istitle()\tReturns True if the string follows the rules of a title\n",
    "isupper()\tReturns True if all characters in the string are upper case\n",
    "join()\tJoins the elements of an iterable to the end of the string\n",
    "ljust()\tReturns a left justified version of the string\n",
    "lower()\tConverts a string into lower case\n",
    "lstrip()\tReturns a left trim version of the string\n",
    "maketrans()\tReturns a translation table to be used in translations\n",
    "partition()\tReturns a tuple where the string is parted into three parts\n",
    "replace()\tReturns a string where a specified value is replaced with a specified value\n",
    "rfind()\tSearches the string for a specified value and returns the last position of where it was found\n",
    "rindex()\tSearches the string for a specified value and returns the last position of where it was found\n",
    "rjust()\tReturns a right justified version of the string\n",
    "rpartition()\tReturns a tuple where the string is parted into three parts\n",
    "rsplit()\tSplits the string at the specified separator, and returns a list\n",
    "rstrip()\tReturns a right trim version of the string\n",
    "split()\tSplits the string at the specified separator, and returns a list\n",
    "splitlines()\tSplits the string at line breaks and returns a list\n",
    "startswith()\tReturns true if the string starts with the specified value\n",
    "strip()\tReturns a trimmed version of the string\n",
    "swapcase()\tSwaps cases, lower case becomes upper case and vice versa\n",
    "title()\tConverts the first character of each word to upper case\n",
    "translate()\tReturns a translated string\n",
    "upper()\tConverts a string into upper case\n",
    "zfill()\tFills the string with a specified number of 0 values at the beginning\n",
    "\"\"\""
   ]
  }
 ],
 "metadata": {
  "kernelspec": {
   "display_name": "Python 3 (ipykernel)",
   "language": "python",
   "name": "python3"
  },
  "language_info": {
   "codemirror_mode": {
    "name": "ipython",
    "version": 3
   },
   "file_extension": ".py",
   "mimetype": "text/x-python",
   "name": "python",
   "nbconvert_exporter": "python",
   "pygments_lexer": "ipython3",
   "version": "3.9.7"
  }
 },
 "nbformat": 4,
 "nbformat_minor": 5
}
