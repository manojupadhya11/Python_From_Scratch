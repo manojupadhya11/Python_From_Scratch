{
 "cells": [
  {
   "cell_type": "code",
   "execution_count": 3,
   "id": "f79693b3",
   "metadata": {},
   "outputs": [
    {
     "name": "stdout",
     "output_type": "stream",
     "text": [
      "True\n",
      "False\n",
      "True\n"
     ]
    }
   ],
   "source": [
    "#Python Booleans \n",
    "\"\"\"\n",
    "Booleans represent one of two values: True or False.\n",
    "\n",
    "Boolean Values\n",
    "In programming you often need to know if an expression is True or False.\n",
    "\n",
    "You can evaluate any expression in Python, and get one of two answers, True or False.\n",
    "\"\"\"\n",
    "\n",
    "#When you compare two values, the expression is evaluated and Python returns the Boolean answer:\n",
    "print(10>9)\n",
    "print(10<9)\n",
    "print(10==10)"
   ]
  },
  {
   "cell_type": "code",
   "execution_count": 5,
   "id": "04f94e6e",
   "metadata": {},
   "outputs": [
    {
     "name": "stdout",
     "output_type": "stream",
     "text": [
      "True, A is greater than b\n"
     ]
    }
   ],
   "source": [
    "#When you run a condition in an if statement, Python returns True or False:\n",
    "a=10\n",
    "b=2\n",
    "if a >b:\n",
    "    print(\"True, A is greater than b\")\n",
    "else:\n",
    "    print(\"false B is greater than A\")"
   ]
  },
  {
   "cell_type": "code",
   "execution_count": 8,
   "id": "d0dbcd5d",
   "metadata": {},
   "outputs": [
    {
     "name": "stdout",
     "output_type": "stream",
     "text": [
      "True\n",
      "True\n",
      "True\n",
      "True\n"
     ]
    }
   ],
   "source": [
    "#Evaluate Values and Variables\n",
    "\n",
    "\"\"\"\n",
    "The bool() function allows you to evaluate any value, and give you True or False in return,\n",
    "\"\"\"\n",
    "print(bool(15)) #Evaluate a string and a number:\n",
    "print(bool(\"hello\"))\n",
    "\n",
    "#Evaluate a variable\n",
    "a = 10\n",
    "b = \"Hello\"\n",
    "print(bool(a))\n",
    "print(bool(b))"
   ]
  },
  {
   "cell_type": "code",
   "execution_count": 11,
   "id": "199eb7cf",
   "metadata": {},
   "outputs": [
    {
     "name": "stdout",
     "output_type": "stream",
     "text": [
      "True\n",
      "True\n",
      "True\n"
     ]
    }
   ],
   "source": [
    "#Most values are True \n",
    "\"\"\"\n",
    "Almost any value is evaluated to True if it has some sort of content.\n",
    "\n",
    "Any string is True, except empty strings.\n",
    "\n",
    "Any number is True, except 0.\n",
    "\n",
    "Any list, tuple, set, and dictionary are True, except empty ones\n",
    "\"\"\"\n",
    "\n",
    "print(bool(\"abc\"))\n",
    "print(bool(123))\n",
    "print(bool([\"apple\", \"cherry\", \"banana\"]))"
   ]
  },
  {
   "cell_type": "code",
   "execution_count": 13,
   "id": "d65facec",
   "metadata": {},
   "outputs": [
    {
     "data": {
      "text/plain": [
       "False"
      ]
     },
     "execution_count": 13,
     "metadata": {},
     "output_type": "execute_result"
    }
   ],
   "source": [
    "#Some values are False\n",
    "\n",
    "\"\"\"\n",
    "In fact, there are not many values that evaluate to False, except empty values, \n",
    "such as (), [], {}, \"\", the number 0, and the value None. And of course the value False evaluates to False.\n",
    "\"\"\"\n",
    "\n",
    "bool(False)\n",
    "bool(None)\n",
    "bool(0)\n",
    "bool(\"\")\n",
    "bool(())\n",
    "bool([])\n",
    "bool({})"
   ]
  },
  {
   "cell_type": "code",
   "execution_count": 1,
   "id": "8db27376",
   "metadata": {},
   "outputs": [
    {
     "name": "stdout",
     "output_type": "stream",
     "text": [
      "True\n",
      "YES! True\n"
     ]
    }
   ],
   "source": [
    "#Functions can return boolean values\n",
    "\n",
    "\"\"\"\n",
    "You can create functions that returns a Boolean Value\n",
    "\"\"\"\n",
    "def myfunction():\n",
    "    return True\n",
    "print(myfunction())\n",
    "\n",
    "#You can execute code based on the Boolean answer of a function:\n",
    "\n",
    "if myfunction():\n",
    "    print(\"YES! True\")\n",
    "else:\n",
    "    print(\"No! False\")"
   ]
  },
  {
   "cell_type": "code",
   "execution_count": 2,
   "id": "4ee7f1ec",
   "metadata": {},
   "outputs": [
    {
     "name": "stdout",
     "output_type": "stream",
     "text": [
      "True\n"
     ]
    }
   ],
   "source": [
    "#Python also has many built-in functions that return a boolean value, like the \n",
    "#isinstance() function, which can be used to determine if an object is of a certain data type\n",
    "x = 200\n",
    "print(isinstance(x, int))"
   ]
  },
  {
   "cell_type": "code",
   "execution_count": null,
   "id": "90038039",
   "metadata": {},
   "outputs": [],
   "source": []
  }
 ],
 "metadata": {
  "kernelspec": {
   "display_name": "Python 3 (ipykernel)",
   "language": "python",
   "name": "python3"
  },
  "language_info": {
   "codemirror_mode": {
    "name": "ipython",
    "version": 3
   },
   "file_extension": ".py",
   "mimetype": "text/x-python",
   "name": "python",
   "nbconvert_exporter": "python",
   "pygments_lexer": "ipython3",
   "version": "3.9.7"
  }
 },
 "nbformat": 4,
 "nbformat_minor": 5
}
