{
 "cells": [
  {
   "cell_type": "code",
   "execution_count": 2,
   "id": "64882ed5",
   "metadata": {},
   "outputs": [],
   "source": [
    "#Python Lambda \n",
    "'''\n",
    "A lambda function is a small anonymous function.\n",
    "\n",
    "A lambda function can take any number of arguments, but can only have one expression.\n",
    "Syntax\n",
    "lambda arguments : expression\n",
    "The expression is executed and the result is returned:\n",
    "'''"
   ]
  },
  {
   "cell_type": "code",
   "execution_count": 5,
   "id": "a019451e",
   "metadata": {},
   "outputs": [
    {
     "name": "stdout",
     "output_type": "stream",
     "text": [
      "15\n"
     ]
    }
   ],
   "source": [
    "#Add 10 to argument a, and return the result:\n",
    "x = lambda a : a+ 10\n",
    "print(x(5))"
   ]
  },
  {
   "cell_type": "code",
   "execution_count": 6,
   "id": "53048be2",
   "metadata": {},
   "outputs": [
    {
     "name": "stdout",
     "output_type": "stream",
     "text": [
      "30\n"
     ]
    }
   ],
   "source": [
    "#Lambda functions can take any number of arguments:\n",
    "x = lambda a,b : a+b\n",
    "print(x(10,20))"
   ]
  },
  {
   "cell_type": "code",
   "execution_count": 11,
   "id": "ff493867",
   "metadata": {},
   "outputs": [
    {
     "name": "stdout",
     "output_type": "stream",
     "text": [
      "Doubler answer is\n",
      "22\n",
      "Tripler Answer is\n",
      "33\n"
     ]
    }
   ],
   "source": [
    "#  Why to use Lambda function\n",
    "'''\n",
    "The power of lambda is better shown when you use them as an anonymous function inside another function.\n",
    "\n",
    "Say you have a function definition that takes one argument, and that argument will be multiplied with an unknown number:\n",
    "\n",
    "'''\n",
    "def myfunc(n):\n",
    "  return lambda a : a * n\n",
    "\n",
    "#Use that function definition to make a function that always doubles the number you send in:\n",
    "mydoubler = myfunc(2)\n",
    "print(\"Doubler answer is\")\n",
    "print(mydoubler(11))\n",
    "\n",
    "#Or, use the same function definition to make a function that always triples the number you send in:\n",
    "mytripler = myfunc(3)\n",
    "print(\"Tripler Answer is\")\n",
    "print(mytripler(11))"
   ]
  },
  {
   "cell_type": "code",
   "execution_count": 12,
   "id": "368e23ec",
   "metadata": {},
   "outputs": [],
   "source": [
    "#Use lambda functions when an anonymous function is required for a short period of time."
   ]
  },
  {
   "cell_type": "code",
   "execution_count": null,
   "id": "a730f5b8",
   "metadata": {},
   "outputs": [],
   "source": []
  }
 ],
 "metadata": {
  "kernelspec": {
   "display_name": "Python 3 (ipykernel)",
   "language": "python",
   "name": "python3"
  },
  "language_info": {
   "codemirror_mode": {
    "name": "ipython",
    "version": 3
   },
   "file_extension": ".py",
   "mimetype": "text/x-python",
   "name": "python",
   "nbconvert_exporter": "python",
   "pygments_lexer": "ipython3",
   "version": "3.9.7"
  }
 },
 "nbformat": 4,
 "nbformat_minor": 5
}
