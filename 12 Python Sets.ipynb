{
 "cells": [
  {
   "cell_type": "code",
   "execution_count": 6,
   "id": "b06080d3",
   "metadata": {},
   "outputs": [
    {
     "name": "stdout",
     "output_type": "stream",
     "text": [
      "{'Swathi', 'Saanvi', 'Manoj'}\n"
     ]
    }
   ],
   "source": [
    "#Sets Sets is a type of python data structure\n",
    "'''\n",
    "Sets are used to store multiple items in a single variable.\n",
    "\n",
    "Set is one of 4 built-in data types in Python used to store collections of data,\n",
    "the other 3 are List, Tuple, and Dictionary, all with different qualities and usage.\n",
    "\n",
    "A set is a collection which is unordered, unchangeable*, and unindexed.\n",
    "* Note: Set items are unchangeable, but you can remove items and add new items.\n",
    "'''\n",
    "myset = {\"Manoj\",\"Swathi\",\"Saanvi\"}\n",
    "print(myset)"
   ]
  },
  {
   "cell_type": "code",
   "execution_count": null,
   "id": "fffd2e55",
   "metadata": {},
   "outputs": [],
   "source": [
    "'''\n",
    "Set Items\n",
    "Set items are unordered, unchangeable, and do not allow duplicate values.\n",
    "\n",
    "Unordered\n",
    "Unordered means that the items in a set do not have a defined order.\n",
    "\n",
    "Set items can appear in a different order every time you use them, and cannot be referred to by index or key.\n",
    "\n",
    "Unchangeable\n",
    "Set items are unchangeable, meaning that we cannot change the items after the set has been created.\n",
    "\n",
    "Once a set is created, you cannot change its items, but you can remove items and add new items.\n",
    "\n",
    "Duplicates Not Allowed\n",
    "Sets cannot have two items with the same value.\n",
    "\n",
    "Note: The values True and 1 are considered the same value in sets, and are treated as duplicates:\n",
    "\n",
    "\n",
    "'''"
   ]
  },
  {
   "cell_type": "code",
   "execution_count": 8,
   "id": "fb98706c",
   "metadata": {},
   "outputs": [
    {
     "name": "stdout",
     "output_type": "stream",
     "text": [
      "3\n"
     ]
    }
   ],
   "source": [
    "#Get the length of set\n",
    "print(len(myset))"
   ]
  },
  {
   "cell_type": "code",
   "execution_count": 12,
   "id": "edc0d00d",
   "metadata": {},
   "outputs": [
    {
     "name": "stdout",
     "output_type": "stream",
     "text": [
      "{16, True, 20.6, 'MAnoj'}\n",
      "<class 'set'>\n"
     ]
    }
   ],
   "source": [
    "#Set items Datatype\n",
    "'''\n",
    "Set items can be of any data type:\n",
    "\n",
    "Example\n",
    "String, int and boolean data types:\n",
    "'''\n",
    "set1 = {\"apple\", \"banana\", \"cherry\"}\n",
    "set2 = {1, 5, 7, 9, 3}\n",
    "set3 = {True, False, False}\n",
    "\n",
    "'''\n",
    "a single set can contain items of diffrent data type\n",
    "'''\n",
    "set4 = {\"MAnoj\", 16,20.6, True}\n",
    "print(set4)\n",
    "\n",
    "#type() method From Python's perspective, sets are defined as objects with the data type 'set':\n",
    "print(type(set4))"
   ]
  },
  {
   "cell_type": "code",
   "execution_count": 13,
   "id": "1c0acc2f",
   "metadata": {},
   "outputs": [
    {
     "name": "stdout",
     "output_type": "stream",
     "text": [
      "{'Swathi', 'Saanvi', 'Manoj'}\n"
     ]
    }
   ],
   "source": [
    "# the set() Constructor\n",
    "# it is also possible use set() constructor to create set\n",
    "thisset = set((\"Manoj\",\"Swathi\",\"Saanvi\"))\n",
    "print(thisset)"
   ]
  },
  {
   "cell_type": "code",
   "execution_count": 15,
   "id": "cac4e5b6",
   "metadata": {},
   "outputs": [
    {
     "name": "stdout",
     "output_type": "stream",
     "text": [
      "Swathi\n",
      "Saanvi\n",
      "Manoj\n",
      "True\n"
     ]
    }
   ],
   "source": [
    "#Access Set items\n",
    "'''\n",
    "You cannot access items in a set by referring to an index or a key.\n",
    "\n",
    "But you can loop through the set items using a for loop,\n",
    "or ask if a specified value is present in a set, by using the in keyword.\n",
    "'''\n",
    "\n",
    "for x in thisset:\n",
    "    print(x)\n",
    "print(\"Manoj\" in thisset)"
   ]
  },
  {
   "cell_type": "code",
   "execution_count": 16,
   "id": "372f1e42",
   "metadata": {},
   "outputs": [],
   "source": [
    "#Change Items in Sets\n",
    "#  !!!!!!Once a set is created, you cannot change its items, but you can add new items."
   ]
  },
  {
   "cell_type": "code",
   "execution_count": 18,
   "id": "3d0b346a",
   "metadata": {},
   "outputs": [
    {
     "name": "stdout",
     "output_type": "stream",
     "text": [
      "{'cherry', 'banana', 'apple'}\n",
      "{'cherry', 'banana', 'apple', 'orange'}\n"
     ]
    }
   ],
   "source": [
    "#Python Add Set Items\n",
    "#Once a set is created we cannot change its items but we can add more ites using add() method\n",
    "thisset = {\"apple\", \"banana\", \"cherry\"}\n",
    "print(thisset)\n",
    "thisset.add(\"orange\")\n",
    "\n",
    "print(thisset)"
   ]
  },
  {
   "cell_type": "code",
   "execution_count": 24,
   "id": "8450adff",
   "metadata": {},
   "outputs": [
    {
     "name": "stdout",
     "output_type": "stream",
     "text": [
      "{'banana', 'papaya', 'cherry', 'mango', 'pineapple', 'apple'}\n"
     ]
    }
   ],
   "source": [
    "#add sets\n",
    "# to add items from other set we use update() method\n",
    "\n",
    "thisset = {\"apple\", \"banana\", \"cherry\"}\n",
    "tropical = {\"pineapple\", \"mango\", \"papaya\"}\n",
    "\n",
    "thisset.update(tropical)\n",
    "\n",
    "print(thisset)\n",
    "\n",
    "#The object in the update() method does not have to be a set, it can be any iterable object (tuples, lists, dictionaries etc.)."
   ]
  },
  {
   "cell_type": "code",
   "execution_count": 26,
   "id": "26d50b66",
   "metadata": {},
   "outputs": [
    {
     "name": "stdout",
     "output_type": "stream",
     "text": [
      "{'cherry', 'apple'}\n",
      "{'cherry', 'apple'}\n"
     ]
    }
   ],
   "source": [
    "#Remove Set items\n",
    "#To remove an item in a set, use the remove(), or the discard() method.\n",
    "#Example for Remove()\n",
    "thisset = {\"apple\", \"banana\", \"cherry\"}\n",
    "\n",
    "thisset.remove(\"banana\")\n",
    "\n",
    "print(thisset)\n",
    "#Note: If the item to remove does not exist, remove() will raise an error.\n",
    "\n",
    "thisset = {\"apple\", \"banana\", \"cherry\"}\n",
    "\n",
    "thisset.discard(\"banana\")\n",
    "\n",
    "print(thisset)\n",
    "# Note  If the item to remove does not exist, discard() will NOT raise an error."
   ]
  },
  {
   "cell_type": "code",
   "execution_count": 27,
   "id": "9207fed7",
   "metadata": {},
   "outputs": [
    {
     "name": "stdout",
     "output_type": "stream",
     "text": [
      "cherry\n",
      "{'banana', 'apple'}\n"
     ]
    }
   ],
   "source": [
    "#The pop() methods\n",
    "'''\n",
    "You can also use the pop() method to remove an item, but this method will \n",
    "remove a random item, so you cannot be sure what item that gets removed.\n",
    "\n",
    "The return value of the pop() method is the removed item.\n",
    "'''\n",
    "thisset = {\"apple\", \"banana\", \"cherry\"}\n",
    "\n",
    "x = thisset.pop()\n",
    "\n",
    "print(x)\n",
    "\n",
    "print(thisset)\n",
    "\n",
    "#Note: Sets are unordered, so when using the pop() method, you do not know which item that gets removed.\n",
    "\n"
   ]
  },
  {
   "cell_type": "code",
   "execution_count": 28,
   "id": "6dc90254",
   "metadata": {},
   "outputs": [
    {
     "name": "stdout",
     "output_type": "stream",
     "text": [
      "set()\n"
     ]
    }
   ],
   "source": [
    "#The clear() method empties the set:\n",
    "\n",
    "thisset = {\"apple\", \"banana\", \"cherry\"}\n",
    "\n",
    "thisset.clear()\n",
    "\n",
    "print(thisset)"
   ]
  },
  {
   "cell_type": "code",
   "execution_count": 30,
   "id": "80e43fc3",
   "metadata": {},
   "outputs": [],
   "source": [
    "#The del keyword will delete the set completely:\n",
    "\n",
    "thisset = {\"apple\", \"banana\", \"cherry\"}\n",
    "\n",
    "del thisset\n",
    "\n",
    "print(thisset)"
   ]
  },
  {
   "cell_type": "code",
   "execution_count": 31,
   "id": "3b2ef098",
   "metadata": {},
   "outputs": [
    {
     "name": "stdout",
     "output_type": "stream",
     "text": [
      "{1, 2, 3, 'c', 'b', 'a'}\n"
     ]
    }
   ],
   "source": [
    "#Join Two Sets\n",
    "'''There are several ways to join two or more sets in Python.\n",
    "\n",
    "You can use the union() method that returns a new set containing all items from both sets, or \n",
    "the update() method that inserts all the items from one set into another:\n",
    "\n",
    "we already seen example for update, example for union as below'''\n",
    "set1 = {\"a\", \"b\" , \"c\"}\n",
    "set2 = {1, 2, 3}\n",
    "\n",
    "set3 = set1.union(set2)\n",
    "print(set3)\n",
    "#Note: Both union() and update() will exclude any duplicate items."
   ]
  },
  {
   "cell_type": "code",
   "execution_count": null,
   "id": "5e9e5682",
   "metadata": {},
   "outputs": [],
   "source": [
    "'''\n",
    "Set Methods\n",
    "Python has a set of built-in methods that you can use on sets.\n",
    "\n",
    "Method\tDescription\n",
    "\n",
    "add()\tAdds an element to the set\n",
    "\n",
    "clear()\tRemoves all the elements from the set\n",
    "\n",
    "copy()\tReturns a copy of the set\n",
    "\n",
    "difference()\tReturns a set containing the difference between two or more sets\n",
    "\n",
    "difference_update()\tRemoves the items in this set that are also included in another, specified set\n",
    "\n",
    "discard()\tRemove the specified item\n",
    "\n",
    "intersection()\tReturns a set, that is the intersection of two other sets\n",
    "\n",
    "intersection_update()\tRemoves the items in this set that are not present in other, specified set(s)\n",
    "\n",
    "isdisjoint()\tReturns whether two sets have a intersection or not\n",
    "\n",
    "issubset()\tReturns whether another set contains this set or not\n",
    "\n",
    "issuperset()\tReturns whether this set contains another set or not\n",
    "\n",
    "pop()\tRemoves an element from the set\n",
    "\n",
    "remove()\tRemoves the specified element\n",
    "\n",
    "symmetric_difference()\tReturns a set with the symmetric differences of two sets\n",
    "\n",
    "symmetric_difference_update()\tinserts the symmetric differences from this set and another\n",
    "\n",
    "union()\tReturn a set containing the union of sets\n",
    "\n",
    "update()\tUpdate the set with the union of this set and oth\n"
   ]
  }
 ],
 "metadata": {
  "kernelspec": {
   "display_name": "Python 3 (ipykernel)",
   "language": "python",
   "name": "python3"
  },
  "language_info": {
   "codemirror_mode": {
    "name": "ipython",
    "version": 3
   },
   "file_extension": ".py",
   "mimetype": "text/x-python",
   "name": "python",
   "nbconvert_exporter": "python",
   "pygments_lexer": "ipython3",
   "version": "3.9.7"
  }
 },
 "nbformat": 4,
 "nbformat_minor": 5
}
