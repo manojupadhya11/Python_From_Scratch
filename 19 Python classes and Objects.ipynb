{
 "cells": [
  {
   "cell_type": "code",
   "execution_count": null,
   "id": "a7ade532",
   "metadata": {},
   "outputs": [],
   "source": [
    "#Python Classes and Objects\n",
    "'''\n",
    "Python is an object oriented programming language.\n",
    "\n",
    "Almost everything in Python is an object, with its properties and methods.\n",
    "\n",
    "A Class is like an object constructor, or a \"blueprint\" for creating objects.\n",
    "'''"
   ]
  },
  {
   "cell_type": "code",
   "execution_count": null,
   "id": "dae3d4be",
   "metadata": {},
   "outputs": [],
   "source": [
    "#Definitions\n",
    "\n",
    "\"\"\"\n",
    "Class:-  Class is a template ex:- Dog\n",
    "\n",
    "Method or Message :-  a defined capability or characteristics of a class  ex:- bark()\n",
    "\n",
    "field or attribute :-  a bit of data in a class  ex:- length (length of bark)\n",
    "\n",
    "Object or Instance:-   a particular instance of a class ex:- Johny, scooby etc.\n",
    "\n",
    "\"\"\""
   ]
  },
  {
   "cell_type": "code",
   "execution_count": 1,
   "id": "17ea788c",
   "metadata": {},
   "outputs": [],
   "source": [
    "#Creating a class\n",
    "\"\"\"\n",
    "To create a class, use the keyword class:\n",
    "\n",
    "Example\n",
    "Create a class named MyClass, with a property named x:\n",
    "\"\"\"\n",
    "class myclass:\n",
    "    x = 5"
   ]
  },
  {
   "cell_type": "code",
   "execution_count": 5,
   "id": "abb8fc1f",
   "metadata": {},
   "outputs": [
    {
     "name": "stdout",
     "output_type": "stream",
     "text": [
      "5\n",
      "10\n"
     ]
    }
   ],
   "source": [
    "#Creating a object\n",
    "\"\"\"\n",
    "Now we can use the class named MyClass to create objects:\n",
    "\n",
    "Example\n",
    "Create an object named p1, and print the value of x:\n",
    "\"\"\"\n",
    "p1 = myclass()\n",
    "print(p1.x)\n",
    "\n",
    "p2 = myclass()\n",
    "print(p2.x*2)"
   ]
  },
  {
   "cell_type": "code",
   "execution_count": 8,
   "id": "a2815658",
   "metadata": {},
   "outputs": [
    {
     "name": "stdout",
     "output_type": "stream",
     "text": [
      "So far 1\n",
      "So far 2\n",
      "So far 3\n"
     ]
    },
    {
     "data": {
      "text/plain": [
       "['__class__',\n",
       " '__delattr__',\n",
       " '__dict__',\n",
       " '__dir__',\n",
       " '__doc__',\n",
       " '__eq__',\n",
       " '__format__',\n",
       " '__ge__',\n",
       " '__getattribute__',\n",
       " '__gt__',\n",
       " '__hash__',\n",
       " '__init__',\n",
       " '__init_subclass__',\n",
       " '__le__',\n",
       " '__lt__',\n",
       " '__module__',\n",
       " '__ne__',\n",
       " '__new__',\n",
       " '__reduce__',\n",
       " '__reduce_ex__',\n",
       " '__repr__',\n",
       " '__setattr__',\n",
       " '__sizeof__',\n",
       " '__str__',\n",
       " '__subclasshook__',\n",
       " '__weakref__',\n",
       " 'party',\n",
       " 'x']"
      ]
     },
     "execution_count": 8,
     "metadata": {},
     "output_type": "execute_result"
    }
   ],
   "source": [
    "#An example from book \"Python for EveryBody\"\n",
    "\n",
    "#Class is a reserved word\n",
    "#Below is the template used to create a class\n",
    "class PartyAnimal:\n",
    "    x = 0    #Each PartyAnimal object will have a bit of data\n",
    "    \n",
    "    #this is not a function it is called a Method or message which is defined inside of a class\n",
    "    #Each PartyAnimal object will have a bit of code as below\n",
    "    def party(self): \n",
    "        self.x = self.x + 1\n",
    "        print(\"So far\",self.x)\n",
    "\n",
    "an = PartyAnimal()  #Construct a PartyAnimal object and store that in an\n",
    "\n",
    "an.party()\n",
    "an.party()\n",
    "an.party()\n",
    "\n",
    "dir(an)"
   ]
  },
  {
   "cell_type": "code",
   "execution_count": 6,
   "id": "e852eb3c",
   "metadata": {},
   "outputs": [
    {
     "name": "stdout",
     "output_type": "stream",
     "text": [
      "<class 'list'>\n",
      "\n"
     ]
    },
    {
     "data": {
      "text/plain": [
       "['__add__',\n",
       " '__class__',\n",
       " '__class_getitem__',\n",
       " '__contains__',\n",
       " '__delattr__',\n",
       " '__delitem__',\n",
       " '__dir__',\n",
       " '__doc__',\n",
       " '__eq__',\n",
       " '__format__',\n",
       " '__ge__',\n",
       " '__getattribute__',\n",
       " '__getitem__',\n",
       " '__gt__',\n",
       " '__hash__',\n",
       " '__iadd__',\n",
       " '__imul__',\n",
       " '__init__',\n",
       " '__init_subclass__',\n",
       " '__iter__',\n",
       " '__le__',\n",
       " '__len__',\n",
       " '__lt__',\n",
       " '__mul__',\n",
       " '__ne__',\n",
       " '__new__',\n",
       " '__reduce__',\n",
       " '__reduce_ex__',\n",
       " '__repr__',\n",
       " '__reversed__',\n",
       " '__rmul__',\n",
       " '__setattr__',\n",
       " '__setitem__',\n",
       " '__sizeof__',\n",
       " '__str__',\n",
       " '__subclasshook__',\n",
       " 'append',\n",
       " 'clear',\n",
       " 'copy',\n",
       " 'count',\n",
       " 'extend',\n",
       " 'index',\n",
       " 'insert',\n",
       " 'pop',\n",
       " 'remove',\n",
       " 'reverse',\n",
       " 'sort']"
      ]
     },
     "execution_count": 6,
     "metadata": {},
     "output_type": "execute_result"
    }
   ],
   "source": [
    "#A NERDY way to find out capabilities using dir() and type()\n",
    "\"\"\"\n",
    "the dir() lists capabilities, ignore the ones with underscore those are used by python itself, \n",
    "the rest are real operations performed on objects\n",
    "\n",
    "type():- it tells something about the variable\n",
    "\n",
    "\"\"\"\n",
    "x = list()\n",
    "\n",
    "print(type(x))\n",
    "\n",
    "print()\n",
    "\n",
    "dir(x)\n"
   ]
  },
  {
   "cell_type": "code",
   "execution_count": 7,
   "id": "f618b5a0",
   "metadata": {},
   "outputs": [
    {
     "data": {
      "text/plain": [
       "['__add__',\n",
       " '__class__',\n",
       " '__contains__',\n",
       " '__delattr__',\n",
       " '__dir__',\n",
       " '__doc__',\n",
       " '__eq__',\n",
       " '__format__',\n",
       " '__ge__',\n",
       " '__getattribute__',\n",
       " '__getitem__',\n",
       " '__getnewargs__',\n",
       " '__gt__',\n",
       " '__hash__',\n",
       " '__init__',\n",
       " '__init_subclass__',\n",
       " '__iter__',\n",
       " '__le__',\n",
       " '__len__',\n",
       " '__lt__',\n",
       " '__mod__',\n",
       " '__mul__',\n",
       " '__ne__',\n",
       " '__new__',\n",
       " '__reduce__',\n",
       " '__reduce_ex__',\n",
       " '__repr__',\n",
       " '__rmod__',\n",
       " '__rmul__',\n",
       " '__setattr__',\n",
       " '__sizeof__',\n",
       " '__str__',\n",
       " '__subclasshook__',\n",
       " 'capitalize',\n",
       " 'casefold',\n",
       " 'center',\n",
       " 'count',\n",
       " 'encode',\n",
       " 'endswith',\n",
       " 'expandtabs',\n",
       " 'find',\n",
       " 'format',\n",
       " 'format_map',\n",
       " 'index',\n",
       " 'isalnum',\n",
       " 'isalpha',\n",
       " 'isascii',\n",
       " 'isdecimal',\n",
       " 'isdigit',\n",
       " 'isidentifier',\n",
       " 'islower',\n",
       " 'isnumeric',\n",
       " 'isprintable',\n",
       " 'isspace',\n",
       " 'istitle',\n",
       " 'isupper',\n",
       " 'join',\n",
       " 'ljust',\n",
       " 'lower',\n",
       " 'lstrip',\n",
       " 'maketrans',\n",
       " 'partition',\n",
       " 'removeprefix',\n",
       " 'removesuffix',\n",
       " 'replace',\n",
       " 'rfind',\n",
       " 'rindex',\n",
       " 'rjust',\n",
       " 'rpartition',\n",
       " 'rsplit',\n",
       " 'rstrip',\n",
       " 'split',\n",
       " 'splitlines',\n",
       " 'startswith',\n",
       " 'strip',\n",
       " 'swapcase',\n",
       " 'title',\n",
       " 'translate',\n",
       " 'upper',\n",
       " 'zfill']"
      ]
     },
     "execution_count": 7,
     "metadata": {},
     "output_type": "execute_result"
    }
   ],
   "source": [
    "y = \"My name is Manoj\"\n",
    "dir(y)"
   ]
  },
  {
   "cell_type": "code",
   "execution_count": 11,
   "id": "405898e3",
   "metadata": {},
   "outputs": [
    {
     "name": "stdout",
     "output_type": "stream",
     "text": [
      "I am Constructed\n",
      "So far 1\n",
      "So far 2\n",
      "I am destructed 2\n",
      "an contains 42\n"
     ]
    }
   ],
   "source": [
    "#Object lifecycle  constructor and destructor\n",
    "\"\"\"\n",
    "Objects are cretaed, used and discarded\n",
    "\n",
    "We have special block of codes(methods) that get called\n",
    "    1. At the moment of creation (Constructor)\n",
    "    2. At the moment of destruction( Destructor)\n",
    "\"\"\"\n",
    "class partyanimal:\n",
    "    x = 0\n",
    "    \n",
    "    def __init__(self):\n",
    "        print(\"I am Constructed\")\n",
    "        \n",
    "    def party(self):\n",
    "        self.x = self.x+1\n",
    "        print(\"So far\", self.x)\n",
    "    \n",
    "    def __del__(self):\n",
    "        print(\"I am destructed\", self.x)\n",
    "\n",
    "an = partyanimal()\n",
    "\n",
    "an.party()\n",
    "an.party()\n",
    "\n",
    "an = 42\n",
    "print(\"an contains\", an)\n",
    "\n",
    "#The Usage of constructor and destructor are optional"
   ]
  },
  {
   "cell_type": "code",
   "execution_count": 14,
   "id": "b1932464",
   "metadata": {},
   "outputs": [
    {
     "name": "stdout",
     "output_type": "stream",
     "text": [
      "manoj Constructed\n",
      "manoj party count 1\n",
      "Saanvi Constructed\n",
      "Saanvi party count 1\n",
      "manoj party count 2\n"
     ]
    }
   ],
   "source": [
    "#Many Instances\n",
    "\"\"\"\n",
    "we can create lots of objects - the class is template for objects\n",
    "\n",
    "we can store each distinct object in its own variable\n",
    "\n",
    "we call this having multiple instances of the same class\n",
    "\n",
    "Each instance has its own copy of the instance variables\n",
    "\"\"\"\n",
    "\n",
    "class partyanimal:\n",
    "    x = 0\n",
    "    name = \"\"\n",
    "#Constructors can have additional parameters, These can be used to setup instance variables of particular instance of a class\n",
    "    def __init__(self, z):\n",
    "        self.name = z\n",
    "        print(self.name,\"Constructed\")\n",
    "        \n",
    "    def party(self):\n",
    "        self.x = self.x+1\n",
    "        print(self.name,\"party count\", self.x)\n",
    "    \n",
    "#Multiple objects of partyanimal class created below\n",
    "\n",
    "an = partyanimal(\"manoj\")\n",
    "\n",
    "an.party()\n",
    "\n",
    "am = partyanimal(\"Saanvi\")\n",
    "am.party()\n",
    "\n",
    "an.party()\n",
    "\n",
    "\n"
   ]
  },
  {
   "cell_type": "code",
   "execution_count": null,
   "id": "70d16826",
   "metadata": {},
   "outputs": [],
   "source": [
    "#The __init()__ function\n",
    "\"\"\"\n",
    "The examples above are classes and objects in their simplest form, and are not really useful in real life applications.\n",
    "\n",
    "To understand the meaning of classes we have to understand the built-in __init__() function.\n",
    "\n",
    "All classes have a function called __init__(), which is always executed when the class is being initiated.\n",
    "\n",
    "Use the __init__() function to assign values to object properties,\n",
    "or other operations that are necessary to do when the object is being created:\n",
    "\"\"\""
   ]
  },
  {
   "cell_type": "code",
   "execution_count": 7,
   "id": "cbc5cbb4",
   "metadata": {},
   "outputs": [
    {
     "name": "stdout",
     "output_type": "stream",
     "text": [
      "manoj\n",
      "36\n"
     ]
    }
   ],
   "source": [
    "#Create a class named Person, use the __init__() function to assign values for name and age:\n",
    "\n",
    "class myfunction:\n",
    "    def __init__(self, name, age):\n",
    "        self.name = name\n",
    "        self.age = age\n",
    "\n",
    "p1 = myfunction(\"manoj\",36)\n",
    "\n",
    "print(p1.name)\n",
    "print(p1.age)\n",
    "\n",
    "#Note: The __init__() function is called automatically every time the class is being used to create a new object."
   ]
  },
  {
   "cell_type": "code",
   "execution_count": 16,
   "id": "49155e72",
   "metadata": {},
   "outputs": [
    {
     "name": "stdout",
     "output_type": "stream",
     "text": [
      "Manoj(24)\n"
     ]
    }
   ],
   "source": [
    "#The __str__() Function\n",
    "\"\"\"\n",
    "The __str__() function controls what should be returned when the class object is represented as a string.\n",
    "\n",
    "If the __str__() function is not set, the string representation of the object is returned:\n",
    "\"\"\"\n",
    "#WE already seen class and object without __str__() function above\n",
    "\n",
    "class Person:\n",
    "    def __init__(self,name,age):\n",
    "        self.name = name\n",
    "        self.age= age\n",
    "    \n",
    "    def __str__(self):\n",
    "        return f\"{self.name}({self.age})\"\n",
    "p1 = Person(\"Manoj\",24)\n",
    "print(p1)"
   ]
  },
  {
   "cell_type": "code",
   "execution_count": 25,
   "id": "08c563de",
   "metadata": {},
   "outputs": [
    {
     "name": "stdout",
     "output_type": "stream",
     "text": [
      "Hello my name is John\n"
     ]
    }
   ],
   "source": [
    "#Object Methods\n",
    "\"\"\"\n",
    "Objects can also contain methods. Methods in objects are functions that belong to the object.\n",
    "\n",
    "Let us create a method in the Person class:\n",
    "\"\"\"\n",
    "\n",
    "\n",
    "\n",
    "class Person:\n",
    "  def __init__(self, name, age):\n",
    "    self.name = name\n",
    "    self.age = age\n",
    "\n",
    "  def myfunc(self):\n",
    "    print(\"Hello my name is \" + self.name)\n",
    "\n",
    "p1 = Person(\"John\", 36)\n",
    "p1.myfunc()"
   ]
  },
  {
   "cell_type": "code",
   "execution_count": 26,
   "id": "e403bd59",
   "metadata": {},
   "outputs": [
    {
     "name": "stdout",
     "output_type": "stream",
     "text": [
      "Hello my name is John\n"
     ]
    }
   ],
   "source": [
    "#The Self Parameter\n",
    "\n",
    "\"\"\"\n",
    "The self parameter is a reference to the current instance of the class, and is used to access variables that belong to the \n",
    "class.\n",
    "It does not have to be named self , you can call it whatever you like, \n",
    "but it has to be the first parameter of any function in the class:\n",
    "\"\"\"\n",
    "\n",
    "class Person:\n",
    "  def __init__(mysillyobject, name, age):\n",
    "    mysillyobject.name = name\n",
    "    mysillyobject.age = age\n",
    "\n",
    "  def myfunc(abc):\n",
    "    print(\"Hello my name is \" + abc.name)\n",
    "\n",
    "p1 = Person(\"John\", 36)\n",
    "p1.myfunc()"
   ]
  },
  {
   "cell_type": "code",
   "execution_count": 27,
   "id": "301cb4a8",
   "metadata": {},
   "outputs": [],
   "source": [
    "#Modify Object Properties\n",
    "\"\"\"\n",
    "You can modify properties on objects like this:\n",
    "\n",
    "Example\n",
    "Set the age of p1 to 40:\n",
    "\"\"\"\n",
    "p1.age = 40\n",
    "\n",
    "\n",
    "#Delete Object Properties\n",
    "\"\"\"\n",
    "You can delete properties on objects by using the del keyword:\n",
    "\n",
    "Example\n",
    "Delete the age property from the p1 object:\n",
    "\"\"\"\n",
    "del p1.age\n",
    "\n",
    "\n",
    "#Delete Objects\n",
    "\"\"\"\n",
    "You can delete objects by using the del keyword:\n",
    "\n",
    "Example\n",
    "Delete the p1 object:\n",
    "\"\"\"\n",
    "del p1\n",
    "\n",
    "\n",
    "#The pass Statement\n",
    "\"\"\"\n",
    "class definitions cannot be empty, but if you for some reason have a class definition with no content,\n",
    "put in the pass statement to avoid getting an error.\n",
    "\n",
    "Example\n",
    "\"\"\"\n",
    "class Person:\n",
    "  pass\n"
   ]
  },
  {
   "cell_type": "code",
   "execution_count": null,
   "id": "0d616e20",
   "metadata": {},
   "outputs": [],
   "source": []
  },
  {
   "cell_type": "code",
   "execution_count": null,
   "id": "a46cc043",
   "metadata": {},
   "outputs": [],
   "source": []
  }
 ],
 "metadata": {
  "kernelspec": {
   "display_name": "Python 3 (ipykernel)",
   "language": "python",
   "name": "python3"
  },
  "language_info": {
   "codemirror_mode": {
    "name": "ipython",
    "version": 3
   },
   "file_extension": ".py",
   "mimetype": "text/x-python",
   "name": "python",
   "nbconvert_exporter": "python",
   "pygments_lexer": "ipython3",
   "version": "3.9.7"
  }
 },
 "nbformat": 4,
 "nbformat_minor": 5
}
