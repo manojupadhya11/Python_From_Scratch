{
 "cells": [
  {
   "cell_type": "code",
   "execution_count": null,
   "id": "35be3c52",
   "metadata": {},
   "outputs": [],
   "source": [
    "#Python try Except\n",
    "\"\"\"\n",
    "Try block allows you to test a block of code for errors.\n",
    "Except block allows us to handle the error.\n",
    "The else blocks allows or lets us to execute code when there is no error\n",
    "The finally block lets us to execute the block of code regardless of the result of try and except block.\n",
    "\"\"\"\n"
   ]
  },
  {
   "cell_type": "code",
   "execution_count": 2,
   "id": "c0ab9ab0",
   "metadata": {},
   "outputs": [
    {
     "name": "stdout",
     "output_type": "stream",
     "text": [
      "x is not defined\n"
     ]
    }
   ],
   "source": [
    "#Exception Handling in Python\n",
    "\"\"\"\n",
    "When an error occurs or an Exception as we call it, Python wil normally stop and give a traceback (generate an error) \n",
    "These exceptions can be handled by try-except block\n",
    "\n",
    "\"\"\"\n",
    "#The try block will generate an exception, because x is not defined:\n",
    "try:\n",
    "    print(x)\n",
    "except:\n",
    "    print(\"x is not defined\")\n",
    "    \n",
    "'''\n",
    "Since the try block raises an error, the except block will be executed.\n",
    "\n",
    "Without the try block, the program will crash and raise an error:\n",
    "'''"
   ]
  },
  {
   "cell_type": "code",
   "execution_count": 4,
   "id": "8578f2f0",
   "metadata": {},
   "outputs": [
    {
     "name": "stdout",
     "output_type": "stream",
     "text": [
      "10\n"
     ]
    }
   ],
   "source": [
    "#Here try block will get executed only\n",
    "try:\n",
    "    x = 10\n",
    "    print(x)\n",
    "except:\n",
    "    print(\"This block won't executed\")"
   ]
  },
  {
   "cell_type": "code",
   "execution_count": 1,
   "id": "8b72e2bd",
   "metadata": {},
   "outputs": [
    {
     "name": "stdout",
     "output_type": "stream",
     "text": [
      "Variable X is Not Defined\n"
     ]
    }
   ],
   "source": [
    "#Many Exceptions\n",
    "\"\"\"\n",
    "we can define as many except block as we want.\n",
    "for example if we want to execute special kind of except block for particlar kind of error\n",
    "\"\"\"\n",
    "try:\n",
    "    print(x)\n",
    "except NameError:\n",
    "    print(\"Variable X is Not Defined\")\n",
    "except:\n",
    "    print(\"Something else went wrong\")"
   ]
  },
  {
   "cell_type": "code",
   "execution_count": 2,
   "id": "e1799112",
   "metadata": {},
   "outputs": [
    {
     "name": "stdout",
     "output_type": "stream",
     "text": [
      "Hello\n",
      "Nothing went wrong executed correctly\n"
     ]
    }
   ],
   "source": [
    "#Else\n",
    "'''\n",
    "We can also use else keyword to define block of code to be executed if no errors were raised\n",
    "In the below example try block will not generate any errors\n",
    "'''\n",
    "try:\n",
    "    print(\"Hello\")\n",
    "except:\n",
    "    print(\"Something went wrong\")\n",
    "else:\n",
    "    print(\"Nothing went wrong executed correctly\")"
   ]
  },
  {
   "cell_type": "code",
   "execution_count": 3,
   "id": "a9996c57",
   "metadata": {},
   "outputs": [
    {
     "name": "stdout",
     "output_type": "stream",
     "text": [
      "X is Not Defined\n",
      "Finally block got executed\n"
     ]
    }
   ],
   "source": [
    "#Finally\n",
    "\"\"\"\n",
    "If Finally block is specified, it will be exceuted regardless of whether try block raises an error or not\n",
    "\"\"\"\n",
    "try:\n",
    "    print(x)\n",
    "except:\n",
    "    print(\"X is Not Defined\")\n",
    "finally:\n",
    "    print(\"Finally block got executed\")"
   ]
  },
  {
   "cell_type": "code",
   "execution_count": 5,
   "id": "8f510085",
   "metadata": {},
   "outputs": [
    {
     "name": "stdout",
     "output_type": "stream",
     "text": [
      "10\n",
      "Nothing went wrong\n",
      "Finally block got executed\n"
     ]
    }
   ],
   "source": [
    "#Finally block example 2\n",
    "try:\n",
    "    x = 10\n",
    "    print(x)\n",
    "    print(\"Nothing went wrong\")\n",
    "except:\n",
    "    print(\"Something went wrong\")\n",
    "finally:\n",
    "    print(\"Finally block got executed\")"
   ]
  },
  {
   "cell_type": "code",
   "execution_count": null,
   "id": "39cc3ec3",
   "metadata": {},
   "outputs": [],
   "source": [
    "#  Raising an exception\n",
    "\"\"\"\n",
    "As a Python developer you can choose to throw an exception if a condition occurs.\n",
    "\n",
    "To throw (or raise) an exception, use the raise keyword\n",
    "\"\"\"\n",
    "x = -1\n",
    "if x < 1:\n",
    "    raise Exception(\"Sorry Numbers below zero are not allowed\")\n",
    "    \n",
    "\"\"\"\n",
    "The raise keyword is used to raise an exception.\n",
    "\n",
    "You can define what kind of error to raise, and the text to print to the user.\n",
    "\"\"\""
   ]
  },
  {
   "cell_type": "code",
   "execution_count": null,
   "id": "a6f2f424",
   "metadata": {},
   "outputs": [],
   "source": [
    "#Raise a TypeError if x is not an integer:\n",
    "\n",
    "x = \"hello\"\n",
    "\n",
    "if not type(x) is int:\n",
    "  raise TypeError(\"Only integers are allowed\")\n"
   ]
  }
 ],
 "metadata": {
  "kernelspec": {
   "display_name": "Python 3 (ipykernel)",
   "language": "python",
   "name": "python3"
  },
  "language_info": {
   "codemirror_mode": {
    "name": "ipython",
    "version": 3
   },
   "file_extension": ".py",
   "mimetype": "text/x-python",
   "name": "python",
   "nbconvert_exporter": "python",
   "pygments_lexer": "ipython3",
   "version": "3.9.7"
  }
 },
 "nbformat": 4,
 "nbformat_minor": 5
}
