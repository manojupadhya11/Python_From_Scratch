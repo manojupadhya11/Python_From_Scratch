{
 "cells": [
  {
   "cell_type": "code",
   "execution_count": 11,
   "id": "3c18e2b2",
   "metadata": {},
   "outputs": [
    {
     "name": "stdout",
     "output_type": "stream",
     "text": [
      "{'brand': 'Ford', 'model': 'Mustang', 'year': 1964}\n"
     ]
    }
   ],
   "source": [
    "#Dictionary\n",
    "'''\n",
    "Dictionaries are used to store data values in key:value pairs.\n",
    "\n",
    "A dictionary is a collection which is ordered*, changeable and do not allow duplicates.\n",
    "\n",
    "As of Python version 3.7, dictionaries are ordered. In Python 3.6 and earlier, dictionaries are unordered.\n",
    "\n",
    "The values in dictionary items can be of any type. \n",
    "From Python's perspective, dictionaries are defined as objects with the data type 'dict':\n",
    "\n",
    "Dictionaries are written with curly brackets, and have keys and values:\n",
    "'''\n",
    "\n",
    "thisdict = {\n",
    "  \"brand\": \"Ford\",\n",
    "  \"model\": \"Mustang\",\n",
    "  \"year\": 1964\n",
    "}\n",
    "print(thisdict)\n"
   ]
  },
  {
   "cell_type": "code",
   "execution_count": 12,
   "id": "ef8f356e",
   "metadata": {},
   "outputs": [
    {
     "name": "stdout",
     "output_type": "stream",
     "text": [
      "3\n"
     ]
    }
   ],
   "source": [
    "#Dictionary length\n",
    "\"\"\" \n",
    "To determine the length of the Dictionary,\n",
    "we use len() builtin method as below\n",
    "\"\"\"\n",
    "thisdict = {\n",
    "    \"name\": \"Manoj\",\n",
    "    \"city\":\"Manipal\",\n",
    "    \"Year\":1999\n",
    "}\n",
    "print(len(thisdict))"
   ]
  },
  {
   "cell_type": "code",
   "execution_count": 18,
   "id": "da3af322",
   "metadata": {},
   "outputs": [
    {
     "data": {
      "text/plain": [
       "'\\nIt is also possible to use dict() constructor to make a dictionary.\\n'"
      ]
     },
     "execution_count": 18,
     "metadata": {},
     "output_type": "execute_result"
    }
   ],
   "source": [
    "#The Dict() Constructor\n",
    "\"\"\"\n",
    "It is also possible to use dict() constructor to make a dictionary.\n",
    "\"\"\"\n",
    "thisdict = dict(name = \"John\", age = 36, country = \"Norway\")\n",
    "print(thisdict)\n"
   ]
  },
  {
   "cell_type": "code",
   "execution_count": 28,
   "id": "b8afbde8",
   "metadata": {},
   "outputs": [
    {
     "name": "stdout",
     "output_type": "stream",
     "text": [
      "GLS60d\n",
      "GLS60d\n"
     ]
    }
   ],
   "source": [
    "#Python - Access Dictionary Items\n",
    "\n",
    "'''\n",
    "we can access the items of a dictionary by referring to its key name, inside square brackets:\n",
    "'''\n",
    "thisdict = {\n",
    "    \"brand\": \"Mercedes\",\n",
    "    \"model\": \"GLS60d\",\n",
    "    \"year\":2023\n",
    "}\n",
    "\n",
    "#Accessing elements using key\n",
    "x = thisdict[\"model\"]   \n",
    "print(x)\n",
    "#There is also a method called get() that will give you the same result:\n",
    "y = thisdict.get(\"model\")\n",
    "print(y)\n",
    "\n",
    "\n"
   ]
  },
  {
   "cell_type": "code",
   "execution_count": 35,
   "id": "d1aea643",
   "metadata": {},
   "outputs": [
    {
     "name": "stdout",
     "output_type": "stream",
     "text": [
      "dict_keys(['brand', 'model', 'year'])\n",
      "\n",
      "dict_keys(['brand', 'model', 'year'])\n",
      "dict_keys(['brand', 'model', 'year', 'color'])\n",
      "{'brand': 'Ford', 'model': 'Mustang', 'year': 1964, 'color': 'white'}\n"
     ]
    }
   ],
   "source": [
    "\n",
    "# keys The keys() method will return a list of all the keys in the dictionary.\n",
    "a = thisdict.keys()\n",
    "print(a)\n",
    "\n",
    "'''\n",
    "The list of the keys is a view of the dictionary,\n",
    "meaning that any changes done to the dictionary will be reflected in the keys list.\n",
    "Add a new item to the original dictionary, and see that the keys list gets updated as well:\n",
    "\n",
    "'''\n",
    "print()\n",
    "car = {\n",
    "\"brand\": \"Ford\",\n",
    "\"model\": \"Mustang\",\n",
    "\"year\": 1964\n",
    "}\n",
    "\n",
    "x = car.keys()\n",
    "\n",
    "print(x) #before the change\n",
    "\n",
    "car[\"color\"] = \"white\"  #new addition of key and values is same as this\n",
    "\n",
    "print(x) #after the change\n",
    "print(car)"
   ]
  },
  {
   "cell_type": "code",
   "execution_count": 34,
   "id": "52215606",
   "metadata": {},
   "outputs": [
    {
     "name": "stdout",
     "output_type": "stream",
     "text": [
      "dict_values(['Ford', 'Mustang', 1964])\n",
      "dict_values(['Ford', 'Mustang', 2000])\n"
     ]
    }
   ],
   "source": [
    "#Get values The values() method will return a list of all the values in the dictionary.\n",
    "\n",
    "car = {\n",
    "\"brand\": \"Ford\",\n",
    "\"model\": \"Mustang\",\n",
    "\"year\": 1964\n",
    "}\n",
    "\n",
    "x = car.values()\n",
    "print(x)\n",
    "\n",
    "#Make a change in the original dictionary, and see that the values list gets updated as well:\n",
    "car[\"year\"] = 2000\n",
    "\n",
    "print(x)"
   ]
  },
  {
   "cell_type": "code",
   "execution_count": 37,
   "id": "9324bb86",
   "metadata": {},
   "outputs": [
    {
     "name": "stdout",
     "output_type": "stream",
     "text": [
      "dict_items([('brand', 'Ford'), ('model', 'Mustang'), ('year', 1964)])\n"
     ]
    }
   ],
   "source": [
    "#Get items:- he items() method will return each item in a dictionary, as tuples in a list.\n",
    "\n",
    "car = {\n",
    "\"brand\": \"Ford\",\n",
    "\"model\": \"Mustang\",\n",
    "\"year\": 1964\n",
    "}\n",
    "\n",
    "y = car.items()\n",
    "print(y)\n",
    "#The returned list is a view of the items of the dictionary, meaning that any changes done to the dictionary will be reflected in the items list."
   ]
  },
  {
   "cell_type": "code",
   "execution_count": 40,
   "id": "c8783d1d",
   "metadata": {},
   "outputs": [
    {
     "name": "stdout",
     "output_type": "stream",
     "text": [
      "True\n"
     ]
    }
   ],
   "source": [
    "#Check if Key Exists\n",
    "'''\n",
    "To determine if a specified key is present in a dictionary use the in keyword:\n",
    "\n",
    "Example\n",
    "Check if \"model\" is present in the dictionary:\n",
    "'''\n",
    "car = {\n",
    "\"brand\": \"Ford\",\n",
    "\"model\": \"Mustang\",\n",
    "\"year\": 1964\n",
    "}\n",
    "\n",
    "if \"model\" in car:\n",
    "    print(True)\n",
    "\n"
   ]
  },
  {
   "cell_type": "code",
   "execution_count": 44,
   "id": "0221fa98",
   "metadata": {},
   "outputs": [
    {
     "name": "stdout",
     "output_type": "stream",
     "text": [
      "{'brand': 'Ford', 'model': 'Mustang', 'year': 2008}\n",
      "{'brand': 'Ford', 'model': 'Mustang', 'year': 2008}\n",
      "{'brand': 'BMW', 'model': 'Mustang', 'year': 2008}\n"
     ]
    }
   ],
   "source": [
    "#Python - Change Dictionary Items\n",
    "'''\n",
    "You can change the value of a specific item by referring to its key name:\n",
    "\n",
    "Example\n",
    "Change the \"year\" to 2018:\n",
    "'''\n",
    "print(car)\n",
    "car[\"year\"] = 2008\n",
    "print(car)\n",
    "\n",
    "\n",
    "#Update Dictionary\n",
    "'''\n",
    "The update() method will update the dictionary with the items from the given argument.\n",
    "The argument must be a dictionary, or an iterable object with key:value pairs.\n",
    "Example\n",
    "Update the \"year\" of the car by using the update() method:\n",
    "'''\n",
    "car.update({\"brand\":\"BMW\"})\n",
    "print(car)"
   ]
  },
  {
   "cell_type": "code",
   "execution_count": 53,
   "id": "959e3c33",
   "metadata": {},
   "outputs": [
    {
     "name": "stdout",
     "output_type": "stream",
     "text": [
      "{'model': 'Benz', 'Year': 2006, 'Owner': 'Manoj'}\n",
      "{'model': 'Benz', 'Year': 2006}\n",
      "{'model': 'Benz', 'Year': 2006, 'Owner': 'Saanvi'}\n",
      "{'model': 'Benz', 'Year': 2006}\n",
      "{'Year': 2006}\n"
     ]
    },
    {
     "ename": "NameError",
     "evalue": "name 'car' is not defined",
     "output_type": "error",
     "traceback": [
      "\u001b[1;31m---------------------------------------------------------------------------\u001b[0m",
      "\u001b[1;31mNameError\u001b[0m                                 Traceback (most recent call last)",
      "\u001b[1;32m~\\AppData\\Local\\Temp/ipykernel_15728/742898716.py\u001b[0m in \u001b[0;36m<module>\u001b[1;34m\u001b[0m\n\u001b[0;32m     27\u001b[0m \u001b[1;33m\u001b[0m\u001b[0m\n\u001b[0;32m     28\u001b[0m \u001b[1;32mdel\u001b[0m \u001b[0mcar\u001b[0m\u001b[1;33m\u001b[0m\u001b[1;33m\u001b[0m\u001b[0m\n\u001b[1;32m---> 29\u001b[1;33m \u001b[0mprint\u001b[0m\u001b[1;33m(\u001b[0m\u001b[0mcar\u001b[0m\u001b[1;33m)\u001b[0m\u001b[1;33m\u001b[0m\u001b[1;33m\u001b[0m\u001b[0m\n\u001b[0m",
      "\u001b[1;31mNameError\u001b[0m: name 'car' is not defined"
     ]
    }
   ],
   "source": [
    "#Python Remoe Dictionary\n",
    "'''\n",
    "There are Several methods to remove Dictionary.\n",
    "1. pop(): The pop() method removes the item with the specified key name:\n",
    "'''\n",
    "car = {\n",
    "    \"model\":\"Benz\",\n",
    "    \"Year\":2006,\n",
    "    \"Owner\":\"Manoj\"\n",
    "}\n",
    "print(car)\n",
    "car.pop(\"Owner\")\n",
    "print(car)\n",
    "\n",
    "\n",
    "#2. The popitem() method removes the last inserted item\n",
    "car.update({\"Owner\":\"Saanvi\"})\n",
    "print(car)\n",
    "car.popitem()\n",
    "print(car)\n",
    "\n",
    "#3. del() remeoves the item for the specified key name\n",
    "del car[\"model\"]\n",
    "print(car)\n",
    "\n",
    "#del keyword can also be used to delete entire dictionary\n",
    "\n",
    "del car\n",
    "print(car)  "
   ]
  },
  {
   "cell_type": "code",
   "execution_count": 58,
   "id": "570d0fce",
   "metadata": {},
   "outputs": [
    {
     "name": "stdout",
     "output_type": "stream",
     "text": [
      "Model\n",
      "year\n",
      "Owner\n",
      "Printing values of Dictionary\n",
      "Mercedez\n",
      "2004\n",
      "Manoj\n",
      "\n",
      "looping using keys and values method\n",
      "Mercedez\n",
      "2004\n",
      "Manoj\n",
      "\n",
      "Model\n",
      "year\n",
      "Owner\n"
     ]
    }
   ],
   "source": [
    "#Looping through Dictionary\n",
    "'''\n",
    "You can loop through a dictionary by using a for loop.\n",
    "When looping through a dictionary,\n",
    "the return value are the keys of the dictionary, but there are methods to return the values as well.\n",
    "'''\n",
    "\n",
    "car = {\n",
    "    \"Model\":\"Mercedez\",\n",
    "    \"year\":2004,\n",
    "    \"Owner\":\"Manoj\"\n",
    "}\n",
    "\n",
    "for x in car:\n",
    "    print(x)\n",
    "    \n",
    "#Print all values in the dictionary, one by one:\n",
    "print(\"Printing values of Dictionary\")\n",
    "for y in car:\n",
    "    print(car[y])\n",
    "    \n",
    "#We can also use values() and keys() methods\n",
    "print()\n",
    "print(\"looping using keys and values method\")\n",
    "for x in car.values():\n",
    "    print(x)\n",
    "print()\n",
    "for y in car.keys():\n",
    "    print(y)"
   ]
  },
  {
   "cell_type": "code",
   "execution_count": 59,
   "id": "4ca4d0af",
   "metadata": {},
   "outputs": [
    {
     "name": "stdout",
     "output_type": "stream",
     "text": [
      "{'Model': 'Mercedez', 'year': 2004, 'Owner': 'Manoj'}\n"
     ]
    }
   ],
   "source": [
    "#Copying the Entire Dictionary\n",
    "\n",
    "'''\n",
    "You cannot copy a dictionary simply by typing dict2 = dict1,\n",
    "because: dict2 will only be a reference to dict1, and changes made in dict1 will automatically also be made in dict2.\n",
    "\n",
    "There are ways to make a copy, one way is to use the built-in Dictionary method copy().\n",
    "'''\n",
    "\n",
    "car2 = car.copy()\n",
    "print(car2)"
   ]
  },
  {
   "cell_type": "code",
   "execution_count": 63,
   "id": "30a2d1d7",
   "metadata": {},
   "outputs": [
    {
     "name": "stdout",
     "output_type": "stream",
     "text": [
      "{'Srujan': {'age': 20, 'Marital status': 'Single'}, 'pallavi': {'age': 20, 'Marital status': 'Single'}, 'Thanu': {'age': 20, 'Marital status': 'Single'}}\n"
     ]
    }
   ],
   "source": [
    "#Nested Dictionaries :---  A dictionary can contain dictionaries, this is called nested dictionaries.\n",
    "\n",
    "myfamily ={\n",
    "    \"Srujan\": {\n",
    "        \"age\":20,\n",
    "        \"Marital status\":\"Single\"\n",
    "    },\n",
    "    \"pallavi\":{\n",
    "         \"age\":20,\n",
    "        \"Marital status\":\"Single\"\n",
    "    },\n",
    "    \"Thanu\":{\n",
    "        \"age\":20,\n",
    "        \"Marital status\":\"Single\"\n",
    "    }\n",
    "}\n",
    "print(myfamily)\n"
   ]
  },
  {
   "cell_type": "code",
   "execution_count": null,
   "id": "0f8d6c8f",
   "metadata": {},
   "outputs": [],
   "source": [
    "'''\n",
    "Dictionary Methods\n",
    "Python has a set of built-in methods that you can use on dictionaries.\n",
    "\n",
    "Method\tDescription\n",
    "clear()\tRemoves all the elements from the dictionary\n",
    "copy()\tReturns a copy of the dictionary\n",
    "fromkeys()\tReturns a dictionary with the specified keys and value\n",
    "get()\tReturns the value of the specified key\n",
    "items()\tReturns a list containing a tuple for each key value pair\n",
    "keys()\tReturns a list containing the dictionary's keys\n",
    "pop()\tRemoves the element with the specified key\n",
    "popitem()\tRemoves the last inserted key-value pair\n",
    "setdefault()\tReturns the value of the specified key. If the key does not exist: insert the key, with the specified value\n",
    "update()\tUpdates the dictionary with the specified key-value pairs\n",
    "values()\tReturns a list of all the values in the dictionary\n",
    "\n",
    "'''"
   ]
  }
 ],
 "metadata": {
  "kernelspec": {
   "display_name": "Python 3 (ipykernel)",
   "language": "python",
   "name": "python3"
  },
  "language_info": {
   "codemirror_mode": {
    "name": "ipython",
    "version": 3
   },
   "file_extension": ".py",
   "mimetype": "text/x-python",
   "name": "python",
   "nbconvert_exporter": "python",
   "pygments_lexer": "ipython3",
   "version": "3.9.7"
  }
 },
 "nbformat": 4,
 "nbformat_minor": 5
}
