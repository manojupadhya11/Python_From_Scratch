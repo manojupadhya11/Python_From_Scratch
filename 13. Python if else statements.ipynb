{
 "cells": [
  {
   "cell_type": "code",
   "execution_count": null,
   "id": "2eca8611",
   "metadata": {},
   "outputs": [],
   "source": [
    "#Python conditions and If Statement\n",
    "'''\n",
    "Python supports the usual logical conditions from mathematics:\n",
    "\n",
    "Equals: a == b\n",
    "Not Equals: a != b\n",
    "Less than: a < b\n",
    "Less than or equal to: a <= b\n",
    "Greater than: a > b\n",
    "Greater than or equal to: a >= b\n",
    "These conditions can be used in several ways, most commonly in \"if statements\" and loops.\n",
    "\n",
    "An \"if statement\" is written by using the if keyword.\n",
    "'''"
   ]
  },
  {
   "cell_type": "code",
   "execution_count": 1,
   "id": "ca90a6ca",
   "metadata": {},
   "outputs": [
    {
     "name": "stdout",
     "output_type": "stream",
     "text": [
      "b is greater\n"
     ]
    }
   ],
   "source": [
    "#If Statement\n",
    "a = 33\n",
    "b = 200\n",
    "if b > a:\n",
    "    print(\"b is greater\")\n",
    "#Indentation is important if miised will get Traceback"
   ]
  },
  {
   "cell_type": "code",
   "execution_count": 3,
   "id": "40f41e38",
   "metadata": {},
   "outputs": [
    {
     "name": "stdout",
     "output_type": "stream",
     "text": [
      "c is greater\n"
     ]
    }
   ],
   "source": [
    "#Elif statement\n",
    "a=10\n",
    "b=20\n",
    "c=30\n",
    "if b > a and b > c:\n",
    "    print(\"b is greater\")\n",
    "elif c > a and c > b:\n",
    "    print(\"c is greater\")\n",
    "\n",
    "#The elif keyword is Python's way of saying \"if the previous conditions were not true, then try this condition\".\n",
    "#in the above example as we used 'and' in the same way we can use 'or', 'Not' Operator as well"
   ]
  },
  {
   "cell_type": "code",
   "execution_count": 4,
   "id": "e5225809",
   "metadata": {},
   "outputs": [
    {
     "name": "stdout",
     "output_type": "stream",
     "text": [
      "b is greater\n"
     ]
    }
   ],
   "source": [
    "#Else \n",
    "#The else keyword catches anything which isn't caught by the preceding conditions.\n",
    "a=10\n",
    "b=20\n",
    "if a>b:\n",
    "    print(\"a is greater\")\n",
    "else:\n",
    "    print(\"b is greater\")"
   ]
  },
  {
   "cell_type": "code",
   "execution_count": 5,
   "id": "1fef45e0",
   "metadata": {},
   "outputs": [
    {
     "name": "stdout",
     "output_type": "stream",
     "text": [
      "Above ten,\n",
      "and also above 20!\n"
     ]
    }
   ],
   "source": [
    "#Nested if\n",
    "#if within if statement\n",
    "x = 41\n",
    "\n",
    "if x > 10:\n",
    "  print(\"Above ten,\")\n",
    "  if x > 20:\n",
    "    print(\"and also above 20!\")\n",
    "  else:\n",
    "    print(\"but not above 20.\")"
   ]
  },
  {
   "cell_type": "code",
   "execution_count": 6,
   "id": "37693fd9",
   "metadata": {},
   "outputs": [],
   "source": [
    "#The pass Statement\n",
    "'''if statements cannot be empty, but if you\n",
    "for some reason have an if statement with no content, put in the pass statement to avoid getting an error.\n",
    "'''\n",
    "\n",
    "a = 33\n",
    "b = 200\n",
    "\n",
    "if b > a:\n",
    "  pass"
   ]
  },
  {
   "cell_type": "code",
   "execution_count": 7,
   "id": "3a1127b5",
   "metadata": {},
   "outputs": [
    {
     "name": "stdout",
     "output_type": "stream",
     "text": [
      "a is greater\n"
     ]
    }
   ],
   "source": [
    "#Short hand if\n",
    "#If you have only one statement to execute, you can put it on the same line as the if statement.\n",
    "a = 10\n",
    "b = 9\n",
    "if a > b: print(\"a is greater\")"
   ]
  },
  {
   "cell_type": "code",
   "execution_count": 10,
   "id": "fe5b4dfe",
   "metadata": {},
   "outputs": [
    {
     "name": "stdout",
     "output_type": "stream",
     "text": [
      "a is greater\n"
     ]
    }
   ],
   "source": [
    "#Short hand if else\n",
    "print(\"b is greater\") if b > a else print(\"a is greater\")"
   ]
  },
  {
   "cell_type": "code",
   "execution_count": null,
   "id": "b80d1018",
   "metadata": {},
   "outputs": [],
   "source": []
  }
 ],
 "metadata": {
  "kernelspec": {
   "display_name": "Python 3 (ipykernel)",
   "language": "python",
   "name": "python3"
  },
  "language_info": {
   "codemirror_mode": {
    "name": "ipython",
    "version": 3
   },
   "file_extension": ".py",
   "mimetype": "text/x-python",
   "name": "python",
   "nbconvert_exporter": "python",
   "pygments_lexer": "ipython3",
   "version": "3.9.7"
  }
 },
 "nbformat": 4,
 "nbformat_minor": 5
}
