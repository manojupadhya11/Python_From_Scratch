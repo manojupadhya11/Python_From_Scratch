{
 "cells": [
  {
   "cell_type": "code",
   "execution_count": 1,
   "id": "04c302c7",
   "metadata": {},
   "outputs": [
    {
     "name": "stdout",
     "output_type": "stream",
     "text": [
      "apple\n",
      "banana\n",
      "cherry\n"
     ]
    }
   ],
   "source": [
    "#for loops\n",
    "\"\"\"\n",
    "A for loop is used for iterating over a sequence (that is either a list, a tuple, a dictionary, a set, or a string).\n",
    "\n",
    "This is less like the for keyword in other programming languages, and works more \n",
    "like an iterator method as found in other object-orientated programming languages.\n",
    "\n",
    "With the for loop we can execute a set of statements, once for each item in a list, tuple, set etc.\n",
    "\n",
    "\"\"\"\n",
    "#Looping through list\n",
    "fruits = [\"apple\", \"banana\", \"cherry\"]\n",
    "for x in fruits:\n",
    "  print(x)\n",
    "#for loop doesnot require indexing variable to set beforehand"
   ]
  },
  {
   "cell_type": "code",
   "execution_count": 2,
   "id": "7a2bd6c2",
   "metadata": {},
   "outputs": [
    {
     "name": "stdout",
     "output_type": "stream",
     "text": [
      "b\n",
      "a\n",
      "n\n",
      "a\n",
      "n\n",
      "a\n",
      "n\n",
      "a\n"
     ]
    }
   ],
   "source": [
    "#Looping through String\n",
    "#Even strings are iterable objects, they contain a sequence of characters:\n",
    "for x in 'bananana':\n",
    "    print(x)\n",
    "\n"
   ]
  },
  {
   "cell_type": "code",
   "execution_count": 5,
   "id": "1b4d38bd",
   "metadata": {},
   "outputs": [
    {
     "name": "stdout",
     "output_type": "stream",
     "text": [
      "MAngo\n",
      "cherry\n",
      "Orange\n",
      "\n",
      "\n",
      "MAngo\n",
      "cherry\n"
     ]
    }
   ],
   "source": [
    "#the Break Statement \n",
    "#With the break statement we can stop the loop before it has looped through all the items:\n",
    "fruits = [\"MAngo\",\"cherry\",\"Orange\",\"Apple\"]\n",
    "for x in fruits:\n",
    "    print(x)\n",
    "    if x == 'Orange':\n",
    "        break\n",
    "\n",
    "#Exit the loop when x is \"banana\", but this time the break comes before the print:\n",
    "print()\n",
    "print()\n",
    "fruits = [\"MAngo\",\"cherry\",\"Orange\",\"Apple\"]\n",
    "for x in fruits:\n",
    "    if x == 'Orange':\n",
    "        break\n",
    "    print(x)"
   ]
  },
  {
   "cell_type": "code",
   "execution_count": 6,
   "id": "cb03204a",
   "metadata": {},
   "outputs": [
    {
     "name": "stdout",
     "output_type": "stream",
     "text": [
      "MAngo\n",
      "cherry\n",
      "Apple\n"
     ]
    }
   ],
   "source": [
    "#The Continue Statement\n",
    "#With the continue statement we can stop the current iteration of the loop, and continue with the next:\n",
    "fruits = [\"MAngo\",\"cherry\",\"Orange\",\"Apple\"]\n",
    "for x in fruits:\n",
    "    if x == 'Orange':\n",
    "        continue\n",
    "    print(x)"
   ]
  },
  {
   "cell_type": "code",
   "execution_count": 7,
   "id": "2a26143e",
   "metadata": {},
   "outputs": [
    {
     "name": "stdout",
     "output_type": "stream",
     "text": [
      "0\n",
      "1\n",
      "2\n",
      "3\n",
      "4\n",
      "5\n"
     ]
    }
   ],
   "source": [
    "#the Range function\n",
    "\"\"\"\n",
    "To loop through a set of code a specified number of times, we can use the range() function,\n",
    "The range() function returns a sequence of numbers, \n",
    "starting from 0 by default, and increments by 1 (by default), and ends at a specified number.\n",
    "\n",
    "Note that range(6) is not the values of 0 to 6, but the values 0 to 5.\n",
    "\n",
    "The range() function defaults to 0 as a starting value, however \n",
    "it is possible to specify the starting value by adding a parameter: \n",
    "range(2, 6), which means values from 2 to 6 (but not including 6):\n",
    "\"\"\"\n",
    "for x in range(6):\n",
    "    print(x)"
   ]
  },
  {
   "cell_type": "code",
   "execution_count": 8,
   "id": "033c4432",
   "metadata": {},
   "outputs": [
    {
     "name": "stdout",
     "output_type": "stream",
     "text": [
      "2\n",
      "3\n",
      "4\n",
      "5\n"
     ]
    }
   ],
   "source": [
    "for x in range(2, 6):\n",
    "  print(x)"
   ]
  },
  {
   "cell_type": "code",
   "execution_count": 9,
   "id": "98d0458a",
   "metadata": {},
   "outputs": [
    {
     "name": "stdout",
     "output_type": "stream",
     "text": [
      "0\n",
      "3\n",
      "6\n",
      "9\n",
      "12\n",
      "15\n",
      "18\n",
      "21\n",
      "24\n",
      "27\n"
     ]
    }
   ],
   "source": [
    "'''\n",
    "The range() function defaults to increment the sequence by 1, \n",
    "however it is possible to specify the increment value by adding a third parameter: range(2, 30, 3):\n",
    "'''\n",
    "#Increment the sequence with 3 (default is 1):\n",
    "for x in range( 0, 30, 3):\n",
    "    print(x)"
   ]
  },
  {
   "cell_type": "code",
   "execution_count": 11,
   "id": "ddddab71",
   "metadata": {},
   "outputs": [
    {
     "name": "stdout",
     "output_type": "stream",
     "text": [
      "0\n",
      "1\n",
      "2\n",
      "3\n",
      "4\n",
      "5\n",
      "Finally finished!\n"
     ]
    }
   ],
   "source": [
    "#Else in for loop\n",
    "#The else keyword in a for loop specifies a block of code to be executed when the loop is finished:\n",
    "for x in range(6):\n",
    "  print(x)\n",
    "else:\n",
    "  print(\"Finally finished!\")\n",
    "#Note: The else block will NOT be executed if the loop is stopped by a break statement."
   ]
  },
  {
   "cell_type": "code",
   "execution_count": 13,
   "id": "9ca03dbd",
   "metadata": {},
   "outputs": [
    {
     "name": "stdout",
     "output_type": "stream",
     "text": [
      "red apple\n",
      "red banana\n",
      "red cherry\n",
      "big apple\n",
      "big banana\n",
      "big cherry\n",
      "tasty apple\n",
      "tasty banana\n",
      "tasty cherry\n"
     ]
    }
   ],
   "source": [
    "#Nested Loops\n",
    "'''\n",
    "A nested loop is a loop inside a loop.\n",
    "\n",
    "The \"inner loop\" will be executed one time for each iteration of the \"outer loop\":\n",
    "'''\n",
    "adj = [\"red\", \"big\", \"tasty\"]\n",
    "fruits = [\"apple\", \"banana\", \"cherry\"]\n",
    "\n",
    "for x in adj:\n",
    "  for y in fruits:\n",
    "    print(x, y)"
   ]
  },
  {
   "cell_type": "code",
   "execution_count": 14,
   "id": "d0886f2f",
   "metadata": {},
   "outputs": [],
   "source": [
    "#The PASS Statement\n",
    "'''\n",
    "for loops cannot be empty, but if you for some reason have a for loop with no content,\n",
    "put in the pass statement to avoid getting an error.\n",
    "\n",
    "Example\n",
    "\n",
    "'''\n",
    "for x in [0, 1, 2]:\n",
    "  pass\n"
   ]
  },
  {
   "cell_type": "code",
   "execution_count": null,
   "id": "1e9f2b8b",
   "metadata": {},
   "outputs": [],
   "source": []
  }
 ],
 "metadata": {
  "kernelspec": {
   "display_name": "Python 3 (ipykernel)",
   "language": "python",
   "name": "python3"
  },
  "language_info": {
   "codemirror_mode": {
    "name": "ipython",
    "version": 3
   },
   "file_extension": ".py",
   "mimetype": "text/x-python",
   "name": "python",
   "nbconvert_exporter": "python",
   "pygments_lexer": "ipython3",
   "version": "3.9.7"
  }
 },
 "nbformat": 4,
 "nbformat_minor": 5
}
