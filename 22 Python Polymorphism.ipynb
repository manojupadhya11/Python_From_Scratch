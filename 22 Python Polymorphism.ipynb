{
 "cells": [
  {
   "cell_type": "code",
   "execution_count": null,
   "id": "5b896724",
   "metadata": {},
   "outputs": [],
   "source": [
    "#Python Polymorphism: - One in many form\n",
    "\"\"\"\n",
    "The word \"polymorphism\" means \"many forms\", and \n",
    "in programming it refers to methods/functions/operators with the same name that can be executed on many objects or classes.\n",
    "\"\"\""
   ]
  },
  {
   "cell_type": "code",
   "execution_count": null,
   "id": "0052b81a",
   "metadata": {},
   "outputs": [],
   "source": [
    "#Function Polymorphism\n",
    "\"\"\"\n",
    "An example of a Python function that can be used on different objects is the len() function.\n",
    "For strings len() returns the number of characters\n",
    "For tuples len() returns the number of items in the tuple:\n",
    "\"\"\"\n"
   ]
  },
  {
   "cell_type": "code",
   "execution_count": 1,
   "id": "47bb501e",
   "metadata": {},
   "outputs": [
    {
     "name": "stdout",
     "output_type": "stream",
     "text": [
      "8\n"
     ]
    }
   ],
   "source": [
    "#Strings : For strings len() returns number of characters\n",
    "mystr = \"Bananana\"\n",
    "print(len(mystr))"
   ]
  },
  {
   "cell_type": "code",
   "execution_count": 2,
   "id": "aeddbb39",
   "metadata": {},
   "outputs": [
    {
     "name": "stdout",
     "output_type": "stream",
     "text": [
      "4\n"
     ]
    }
   ],
   "source": [
    "#Tuple : - For tuples len() returns the number of items in the tuple:\n",
    "mytuple = (\"Manoj\",\"Manaswi\",\"Mahi\",\"Mahima\")\n",
    "print(len(mytuple))"
   ]
  },
  {
   "cell_type": "code",
   "execution_count": 3,
   "id": "26350b4c",
   "metadata": {},
   "outputs": [
    {
     "name": "stdout",
     "output_type": "stream",
     "text": [
      "3\n"
     ]
    }
   ],
   "source": [
    "#Dictionary:- For dictionaries len() returns the number of key/value pairs in the dictionary:\n",
    "thisdict = {\n",
    "  \"brand\": \"Ford\",\n",
    "  \"model\": \"Mustang\",\n",
    "  \"year\": 1964\n",
    "}\n",
    "\n",
    "print(len(thisdict))"
   ]
  },
  {
   "cell_type": "code",
   "execution_count": 6,
   "id": "28ae4a03",
   "metadata": {},
   "outputs": [
    {
     "name": "stdout",
     "output_type": "stream",
     "text": [
      "Move\n",
      "Sail\n",
      "fly\n"
     ]
    }
   ],
   "source": [
    "#Class Polymorphism\n",
    "\"\"\"\n",
    "Polymorphism is often used in Class methods, where we can have multiple classes with the same method name.\n",
    "\n",
    "For example, say we have three classes: Car, Boat, and Plane, and they all have a method called move():\n",
    "\"\"\"\n",
    "\n",
    "class car:\n",
    "    def __init__(self,brand, model):\n",
    "        self.brand = brand\n",
    "        self.model = model \n",
    "        \n",
    "    def move(self):\n",
    "        print(\"Move\")\n",
    "\n",
    "class boat:\n",
    "    def __init__(self,brand, model):\n",
    "        self.brand = brand\n",
    "        self.model = model \n",
    "        \n",
    "    def move(self):\n",
    "        print(\"Sail\")\n",
    "        \n",
    "class helicopter:\n",
    "    def __init__(self,brand, model):\n",
    "        self.brand = brand\n",
    "        self.model = model \n",
    "        \n",
    "    def move(self):\n",
    "        print(\"fly\")\n",
    "        \n",
    "#Creating object for each class\n",
    "carobj = car(\"Ford\", \"Mustang\")       #Create a Car class\n",
    "boatobj = boat(\"Ibiza\", \"Touring 20\") #Create a Boat class\n",
    "helicopterobj =  helicopter(\"Boeing\", \"747\")    \n",
    "\n",
    "for x in (carobj, boatobj, helicopterobj):\n",
    "    x.move()\n",
    "\n",
    "    \n",
    "    \n",
    "#Look at the for loop at the end. Because of polymorphism we can execute the same method for all three classes."
   ]
  },
  {
   "cell_type": "code",
   "execution_count": 7,
   "id": "69813b03",
   "metadata": {},
   "outputs": [
    {
     "name": "stdout",
     "output_type": "stream",
     "text": [
      "Ford\n",
      "Mustang\n",
      "Move!\n",
      "Ibiza\n",
      "Touring 20\n",
      "Sail!\n",
      "Boeing\n",
      "747\n",
      "Fly!\n"
     ]
    }
   ],
   "source": [
    "#Inheritance Class Polymorphism\n",
    "\"\"\"\n",
    "What about classes with child classes with the same name? Can we use polymorphism there?\n",
    "\n",
    "Yes. If we use the example above and make a parent class called Vehicle, and make Car, Boat, Plane child classes of Vehicle,\n",
    "the child classes inherits the Vehicle methods, but can override them:\n",
    "\"\"\"\n",
    "class Vehicle:\n",
    "  def __init__(self, brand, model):\n",
    "    self.brand = brand\n",
    "    self.model = model\n",
    "\n",
    "  def move(self):\n",
    "    print(\"Move!\")\n",
    "\n",
    "class Car(Vehicle):\n",
    "  pass\n",
    "\n",
    "class Boat(Vehicle):\n",
    "  def move(self):\n",
    "    print(\"Sail!\")\n",
    "\n",
    "class Plane(Vehicle):\n",
    "  def move(self):\n",
    "    print(\"Fly!\")\n",
    "\n",
    "car1 = Car(\"Ford\", \"Mustang\") #Create a Car object\n",
    "boat1 = Boat(\"Ibiza\", \"Touring 20\") #Create a Boat object\n",
    "plane1 = Plane(\"Boeing\", \"747\") #Create a Plane object\n",
    "\n",
    "for x in (car1, boat1, plane1):\n",
    "  print(x.brand)\n",
    "  print(x.model)\n",
    "  x.move()"
   ]
  },
  {
   "cell_type": "code",
   "execution_count": null,
   "id": "601f4ee2",
   "metadata": {},
   "outputs": [],
   "source": []
  }
 ],
 "metadata": {
  "kernelspec": {
   "display_name": "Python 3 (ipykernel)",
   "language": "python",
   "name": "python3"
  },
  "language_info": {
   "codemirror_mode": {
    "name": "ipython",
    "version": 3
   },
   "file_extension": ".py",
   "mimetype": "text/x-python",
   "name": "python",
   "nbconvert_exporter": "python",
   "pygments_lexer": "ipython3",
   "version": "3.9.7"
  }
 },
 "nbformat": 4,
 "nbformat_minor": 5
}
