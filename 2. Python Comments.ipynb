{
 "cells": [
  {
   "cell_type": "code",
   "execution_count": 1,
   "id": "1a4aa90a",
   "metadata": {},
   "outputs": [],
   "source": [
    "#Comments can be used to explain Python code.\n",
    "\n",
    "#Comments can be used to make the code more readable.\n",
    "\n",
    "#Comments can be used to prevent execution when testing code"
   ]
  },
  {
   "cell_type": "code",
   "execution_count": 3,
   "id": "5e445417",
   "metadata": {},
   "outputs": [
    {
     "name": "stdout",
     "output_type": "stream",
     "text": [
      "Single Line Comment\n"
     ]
    }
   ],
   "source": [
    "#This is a comment\n",
    "print(\"Single Line Comment\")"
   ]
  },
  {
   "cell_type": "code",
   "execution_count": 4,
   "id": "2a3565fc",
   "metadata": {},
   "outputs": [
    {
     "name": "stdout",
     "output_type": "stream",
     "text": [
      "one way of Multi Line Comment\n"
     ]
    }
   ],
   "source": [
    "#This is a comment\n",
    "#written in\n",
    "#more than just one line\n",
    "print(\"one way of Multi Line Comment\")"
   ]
  },
  {
   "cell_type": "code",
   "execution_count": 6,
   "id": "bf4e06a3",
   "metadata": {},
   "outputs": [
    {
     "name": "stdout",
     "output_type": "stream",
     "text": [
      "this is another way  of  Multi line Comment\n"
     ]
    }
   ],
   "source": [
    "\"\"\" \n",
    "this is another\n",
    "way \n",
    "of \n",
    "Multi line Comment\n",
    "\"\"\"\n",
    "print(\"this is another way  of  Multi line Comment\")"
   ]
  },
  {
   "cell_type": "code",
   "execution_count": null,
   "id": "4703f342",
   "metadata": {},
   "outputs": [],
   "source": []
  }
 ],
 "metadata": {
  "kernelspec": {
   "display_name": "Python 3 (ipykernel)",
   "language": "python",
   "name": "python3"
  },
  "language_info": {
   "codemirror_mode": {
    "name": "ipython",
    "version": 3
   },
   "file_extension": ".py",
   "mimetype": "text/x-python",
   "name": "python",
   "nbconvert_exporter": "python",
   "pygments_lexer": "ipython3",
   "version": "3.9.7"
  }
 },
 "nbformat": 4,
 "nbformat_minor": 5
}
