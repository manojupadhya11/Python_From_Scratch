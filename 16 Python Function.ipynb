{
 "cells": [
  {
   "cell_type": "code",
   "execution_count": 1,
   "id": "0c1e7aff",
   "metadata": {},
   "outputs": [
    {
     "data": {
      "text/plain": [
       "'\\nA function is a block of code which only runs when it is called.\\n\\nYou can pass data, known as parameters, into a function.\\n\\nA function can return data as a result.\\n'"
      ]
     },
     "execution_count": 1,
     "metadata": {},
     "output_type": "execute_result"
    }
   ],
   "source": [
    "'''\n",
    "A function is a block of code which only runs when it is called.\n",
    "\n",
    "You can pass data, known as parameters, into a function.\n",
    "\n",
    "A function can return data as a result.\n",
    "'''"
   ]
  },
  {
   "cell_type": "code",
   "execution_count": 3,
   "id": "81ec4256",
   "metadata": {},
   "outputs": [],
   "source": [
    "#Creating a New Function\n",
    "#In Python a function is defined using the def keyword:\n",
    "def myfunction():\n",
    "    print('Hello World!!!')"
   ]
  },
  {
   "cell_type": "code",
   "execution_count": 4,
   "id": "b72675e1",
   "metadata": {},
   "outputs": [
    {
     "name": "stdout",
     "output_type": "stream",
     "text": [
      "Hello World!!!\n"
     ]
    }
   ],
   "source": [
    "#Calling a Function\n",
    "#To call a function, use the function name followed by parenthesis:\n",
    "myfunction()"
   ]
  },
  {
   "cell_type": "code",
   "execution_count": 8,
   "id": "779c95b8",
   "metadata": {},
   "outputs": [
    {
     "name": "stdout",
     "output_type": "stream",
     "text": [
      "joe mathews\n",
      "rose mathews\n",
      "chandler mathews\n",
      "monica mathews\n"
     ]
    }
   ],
   "source": [
    "#Arguements : -Arguments are often shortened to args in general \n",
    "'''\n",
    "Information can be passed into functions as arguments.\n",
    "\n",
    "Arguments are specified after the function name, inside the parentheses. You can add as\n",
    "many arguments as you want, just separate them with a comma.\n",
    "\n",
    "The following example has a function with one argument (fname). \n",
    "When the function is called, we pass along a first name, which is used inside the function to print the full name:\n",
    "'''\n",
    "def myfunction(fname):\n",
    "    print(fname + \" mathews\")\n",
    "    \n",
    "myfunction('joe')\n",
    "myfunction('rose')\n",
    "myfunction('chandler')\n",
    "myfunction('monica')"
   ]
  },
  {
   "cell_type": "code",
   "execution_count": 9,
   "id": "0a918b85",
   "metadata": {},
   "outputs": [
    {
     "data": {
      "text/plain": [
       "\"\\nThe terms parameter and argument can be used for the same thing: information that are passed into a function.\\n\\nFrom a function's perspective:\\n\\nA parameter is the variable listed inside the parentheses in the function definition.\\n\\nAn argument is the value that is sent to the function when it is called.\\n\""
      ]
     },
     "execution_count": 9,
     "metadata": {},
     "output_type": "execute_result"
    }
   ],
   "source": [
    "#Parameters or arguements\n",
    "\"\"\"\n",
    "The terms parameter and argument can be used for the same thing: information that are passed into a function.\n",
    "\n",
    "From a function's perspective:\n",
    "\n",
    "A parameter is the variable listed inside the parentheses in the function definition.\n",
    "\n",
    "An argument is the value that is sent to the function when it is called.\n",
    "\"\"\""
   ]
  },
  {
   "cell_type": "code",
   "execution_count": 10,
   "id": "64373ef2",
   "metadata": {},
   "outputs": [
    {
     "name": "stdout",
     "output_type": "stream",
     "text": [
      "Emil Refsnes\n"
     ]
    }
   ],
   "source": [
    "#Number of arguements\n",
    "\"\"\"\n",
    "By default, a function must be called with the correct number of arguments. \n",
    "Meaning that if your function expects 2 arguments, you have to call the function with 2 arguments, not more, and not less. \n",
    "otherwise will get traceback\n",
    "\"\"\"\n",
    "#This function expects 2 arguments, and gets 2 arguments:\n",
    "\n",
    "def my_function(fname, lname):\n",
    "  print(fname + \" \" + lname)\n",
    "\n",
    "my_function(\"Emil\", \"Refsnes\")"
   ]
  },
  {
   "cell_type": "code",
   "execution_count": null,
   "id": "6b45c471",
   "metadata": {},
   "outputs": [],
   "source": []
  }
 ],
 "metadata": {
  "kernelspec": {
   "display_name": "Python 3 (ipykernel)",
   "language": "python",
   "name": "python3"
  },
  "language_info": {
   "codemirror_mode": {
    "name": "ipython",
    "version": 3
   },
   "file_extension": ".py",
   "mimetype": "text/x-python",
   "name": "python",
   "nbconvert_exporter": "python",
   "pygments_lexer": "ipython3",
   "version": "3.9.7"
  }
 },
 "nbformat": 4,
 "nbformat_minor": 5
}
