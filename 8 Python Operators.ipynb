{
 "cells": [
  {
   "cell_type": "code",
   "execution_count": 1,
   "id": "d0bc7f01",
   "metadata": {},
   "outputs": [
    {
     "name": "stdout",
     "output_type": "stream",
     "text": [
      "7\n"
     ]
    }
   ],
   "source": [
    "#Python Operators\n",
    "\"\"\"\n",
    "Operators are used to perform operations on Operands, variables and values.\n",
    "\n",
    "Python divides the operators in the following groups:\n",
    "\n",
    "Arithmetic operators\n",
    "Assignment operators\n",
    "Comparison operators\n",
    "Logical operators\n",
    "Identity operators\n",
    "Membership operators\n",
    "Bitwise operators\n",
    "\"\"\"\n",
    "#in the below example we use + operator to add two int values\n",
    "print(3+4)\n",
    "\n"
   ]
  },
  {
   "cell_type": "code",
   "execution_count": 3,
   "id": "9e665893",
   "metadata": {},
   "outputs": [
    {
     "name": "stdout",
     "output_type": "stream",
     "text": [
      "Answer of X+Y   15\n",
      "Answer of X-Y   5\n",
      "Answer of X*Y   50\n",
      "Answer of X/Y   2.0\n",
      "Answer of X%Y   0\n",
      "Answer of X**Y   100000\n",
      "Answer of X//Y   2\n"
     ]
    }
   ],
   "source": [
    "#Airthematic Operators\n",
    "\n",
    "\"\"\"\n",
    "Arithmetic operators are used with numeric values to perform common mathematical operations:\n",
    "\n",
    "Operator     Name       Example\n",
    "+\t       Addition  \tx + y\t\n",
    "-\t    Subtraction         x - y\t\n",
    "*\tMultiplication   \tx * y\t\n",
    "/\tDivision            x / y\t\n",
    "%\tModulus             x % y\t\n",
    "**\tExponentiation   \tx ** y\t\n",
    "//\tFloor division   \tx // y\n",
    "\"\"\"\n",
    "x = 10\n",
    "y = 5\n",
    "print(\"Answer of X+Y  \",x+y)\n",
    "print(\"Answer of X-Y  \",x-y)\n",
    "print(\"Answer of X*Y  \",x*y)\n",
    "print(\"Answer of X/Y  \",x/y)\n",
    "print(\"Answer of X%Y  \",x%y)\n",
    "print(\"Answer of X**Y  \",x**y)\n",
    "print(\"Answer of X//Y  \",x//y)\n"
   ]
  },
  {
   "cell_type": "code",
   "execution_count": 24,
   "id": "1a3ede9f",
   "metadata": {},
   "outputs": [
    {
     "name": "stdout",
     "output_type": "stream",
     "text": [
      "The Answer x=10 is  10\n",
      "The Answer x = x+3 is  13\n",
      "The Answer x = x-3 is  10\n",
      "The Answer x = x*3 is  30\n",
      "The Answer x = x/3 is  10.0\n",
      "The Answer x = x%3 is  1\n",
      "The Answer x = x//3 is  3\n",
      "The Answer x = x**3 is  27\n",
      "The Answer x = x&1 is  1\n",
      "The Answer x = x|1 is  1\n",
      "The Answer x = x^3 is  6\n"
     ]
    }
   ],
   "source": [
    "#            Python Assignment Operators\n",
    "\"\"\"\n",
    "Assignment operators are used to assign values to variables:\n",
    "\n",
    "Operator\tExample\n",
    "=        x = 5            x = 5\n",
    "+=       x += 3           x = x + 3\n",
    "-=       x -= 3           x = x - 3\n",
    "*=       x *= 3           x = x * 3\n",
    "/=       x /= 3           x = x / 3\n",
    "%=       x %= 3           x = x % 3\n",
    "//=      x //= 3          x = x // 3\n",
    "**=      x **= 3          x = x ** 3\n",
    "&=       x &= 3           x = x & 3\n",
    "|=       x |= 3           x = x | 3\n",
    "^=       x ^= 3           x = x ^ 3\n",
    ">>=      x >>= 3          x = x >> 3\n",
    "<<=      x <<= 3          x = x << 3\n",
    "\"\"\"\n",
    "\n",
    "x = 10\n",
    "print(\"The Answer x=10 is \", x)\n",
    "\n",
    "x += 3\n",
    "print(\"The Answer x = x+3 is \", x)\n",
    "\n",
    "x -= 3\n",
    "print(\"The Answer x = x-3 is \", x)\n",
    " \n",
    "x *= 3\n",
    "print(\"The Answer x = x*3 is \", x)\n",
    "\n",
    "x /= 3\n",
    "print(\"The Answer x = x/3 is \", x)\n",
    "\n",
    "x=10\n",
    "x %= 3\n",
    "print(\"The Answer x = x%3 is \", x)\n",
    "\n",
    "x=9\n",
    "x //= 3\n",
    "print(\"The Answer x = x//3 is \", x)\n",
    "\n",
    "x=3\n",
    "x **= 3\n",
    "print(\"The Answer x = x**3 is \", x)\n",
    "\n",
    "x=1\n",
    "x &= 1\n",
    "print(\"The Answer x = x&1 is \", x)\n",
    "\n",
    "x=0\n",
    "x |=1\n",
    "print(\"The Answer x = x|1 is \", x)\n",
    "\n",
    "x=5\n",
    "x^=3\n",
    "print(\"The Answer x = x^3 is \", x)"
   ]
  },
  {
   "cell_type": "code",
   "execution_count": 25,
   "id": "e6c69b51",
   "metadata": {},
   "outputs": [
    {
     "name": "stdout",
     "output_type": "stream",
     "text": [
      "False\n",
      "False\n",
      "True\n"
     ]
    }
   ],
   "source": [
    "#   Python Comparision Operators\n",
    "\"\"\"  \n",
    "Comparison operators are used to compare two values:\n",
    "\n",
    "Operator\tName\t\n",
    "==        Equal\t          x == y\t\n",
    "!=\t      Not equal       x != y\t\n",
    ">\t    Greater than\t      x > y\t\n",
    "<\t    Less than\t          x < y\t\n",
    ">=      Greater than or equal to\t    x >= y\t\n",
    "<=\t    Less than or equal to\t        x <= y\t\n",
    "\n",
    "All these operators returns either true or false\n",
    "\"\"\"\n",
    "x = 10\n",
    "y = 5\n",
    "print(x==5)\n",
    "print(X<y)\n",
    "print(x>y)"
   ]
  },
  {
   "cell_type": "code",
   "execution_count": 26,
   "id": "149d9fb5",
   "metadata": {},
   "outputs": [
    {
     "name": "stdout",
     "output_type": "stream",
     "text": [
      "True\n",
      "True\n",
      "True\n"
     ]
    }
   ],
   "source": [
    "#     PYTHON Logical Operators\n",
    "\"\"\"\n",
    "Logical operators are used to combine conditional statements:\n",
    "\"\"\"\n",
    "# and \tReturns True if both statements are true\t\n",
    "x = 3\n",
    "print(x < 5 and  x < 10)\n",
    "\n",
    "# or\tReturns True if one of the statements is true\t\n",
    "x = 3\n",
    "print(x < 2 or x < 4)\n",
    "\n",
    "# not\tReverse the result, returns False if the result is true\t\n",
    "x = 11\n",
    "print(not(x < 5 and x < 10))"
   ]
  },
  {
   "cell_type": "code",
   "execution_count": 28,
   "id": "2d639397",
   "metadata": {},
   "outputs": [
    {
     "name": "stdout",
     "output_type": "stream",
     "text": [
      "\n"
     ]
    }
   ],
   "source": [
    "# Some Additional Operators\n",
    "\n",
    "# Python Identity Operators\n",
    "\"\"\"\n",
    "Identity operators are used to compare the objects, not if they are equal, but if they are actually the same object, with the same memory location:\n",
    "\n",
    "Operator\tDescription\tExample\t\n",
    "\n",
    "is \tReturns True if both variables are the same object         x is y\t\n",
    "\n",
    "is not\tReturns True if both variables are not the same object  x is not y\n",
    "\n",
    "\"\"\"\n",
    "\n",
    "#Python membership operator\n",
    "\"\"\"\n",
    "Membership operators are used to test if a sequence is presented in an object:\n",
    "\n",
    "Operator\tDescription\tExample\n",
    "in \tReturns True if a sequence with the specified value is present in the object           x in y\n",
    "not in\tReturns True if a sequence with the specified value is not present in the object   x not in y\n",
    "\"\"\"\n",
    "\n",
    "#Python Bitwise Operator\n",
    "\n",
    "\"\"\"\n",
    "Bitwise operators are used to compare (binary) numbers:\n",
    "\n",
    "Operator\tName\tDescription\tExample\n",
    "&    AND\tSets each bit to 1 if both bits are 1       x & y\n",
    "\n",
    "|    OR \t  Sets each bit to 1 if one of two bits is 1    x | y\n",
    "\n",
    "^    XOR\tSets each bit to 1 if only one of two bits is 1   x ^ y\n",
    "\n",
    "~    NOT\tInverts all the bits       ~x\n",
    "        \n",
    "<<   Zero fill left shift\tShift left by pushing zeros in from the right and let the leftmost bits fall of       x << 2\n",
    "\n",
    ">>   Signed right shift\tShift right by pushing copies of the leftmost bit in from the left, and\n",
    "     let the rightmost bits fall off   x >> 2\n",
    "\n",
    "\"\"\"\n"
   ]
  },
  {
   "cell_type": "code",
   "execution_count": null,
   "id": "705e6131",
   "metadata": {},
   "outputs": [],
   "source": [
    "#      Operator Precedence\n",
    "\"\"\"\n",
    "Operator precedence describes the order in which operations are performed\n",
    "\n",
    "Precedence highest from top to lowest on bottom \n",
    "\n",
    "()                          Parentheses\n",
    "**                          Exponentiation\n",
    "+x  -x  ~x                  Unary plus, unary minus, and bitwise NOT\n",
    "*  /  //  %                 Multiplication, division, floor division, and modulus\n",
    "+  -                        Addition and subtraction\n",
    "<<  >>                      Bitwise left and right shifts\n",
    "&                           Bitwise AND\n",
    "^                           Bitwise XOR\n",
    "|                           Bitwise OR\n",
    "==  !=  >  >=  <  <=  is,  is not,  in, not in,              Comparisons, identity, and membership operators\n",
    "not                         ogical NOT\n",
    "an                          AND\n",
    "or                          OR\n",
    "\"\"\""
   ]
  }
 ],
 "metadata": {
  "kernelspec": {
   "display_name": "Python 3 (ipykernel)",
   "language": "python",
   "name": "python3"
  },
  "language_info": {
   "codemirror_mode": {
    "name": "ipython",
    "version": 3
   },
   "file_extension": ".py",
   "mimetype": "text/x-python",
   "name": "python",
   "nbconvert_exporter": "python",
   "pygments_lexer": "ipython3",
   "version": "3.9.7"
  }
 },
 "nbformat": 4,
 "nbformat_minor": 5
}
