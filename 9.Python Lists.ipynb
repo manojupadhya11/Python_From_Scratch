{
 "cells": [
  {
   "cell_type": "code",
   "execution_count": null,
   "id": "0c905294",
   "metadata": {},
   "outputs": [],
   "source": [
    "\"\"\"\n",
    "Python Collections (Arrays)\n",
    "There are four collection data types in the Python programming language:\n",
    "\n",
    "List is a collection which is ordered and changeable. Allows duplicate members.\n",
    "Tuple is a collection which is ordered and unchangeable. Allows duplicate members.\n",
    "Set is a collection which is unordered, unchangeable*, and unindexed. No duplicate members.\n",
    "Dictionary is a collection which is ordered** and changeable. No duplicate members.\n",
    "\n",
    "*Set items are unchangeable, but you can remove and/or add items whenever you like.\n",
    "**As of Python version 3.7, dictionaries are ordered. In Python 3.6 and earlier, dictionaries are unordered.\n",
    "\n",
    "When choosing a collection type, it is useful to understand the properties of that type. Choosing the right type for\n",
    "a particular data set could mean retention of meaning, and, it could mean an increase in efficiency or security.\n",
    "\"\"\""
   ]
  },
  {
   "cell_type": "code",
   "execution_count": 3,
   "id": "0756f17e",
   "metadata": {},
   "outputs": [
    {
     "name": "stdout",
     "output_type": "stream",
     "text": [
      "['manoj', 'swathi', 'saanvi']\n"
     ]
    }
   ],
   "source": [
    "#              LIST\n",
    "\"\"\"\n",
    "\n",
    "Lists are used to store multiple items in a single variable.\n",
    "\n",
    "Lists are one of 4 built-in data types in Python used to store collections of data, \n",
    "the other 3 are Tuple, Set, and Dictionary, all with different qualities and usage.\n",
    "\n",
    "Lists are created using square brackets:\n",
    "\"\"\"\n",
    "mylist = ['manoj','swathi','saanvi']\n",
    "print(mylist)"
   ]
  },
  {
   "cell_type": "code",
   "execution_count": 4,
   "id": "831b20d8",
   "metadata": {},
   "outputs": [
    {
     "name": "stdout",
     "output_type": "stream",
     "text": [
      "['apple', 'banana', 'banana', 'apple']\n"
     ]
    }
   ],
   "source": [
    "#  LIST ITEMS\n",
    "\n",
    "\"\"\"  \n",
    "List items are ordered, changable, and allow duplicate values.\n",
    "List items are indexed, the first item has index [0], the second item has index [1] etc.\n",
    "\n",
    "\n",
    "1. ORDERED:- When we say that lists are ordered, it means that the items have a defined order, and that order will not change.\n",
    "             If you add new items to a list, the new items will be placed at the end of the list.\n",
    "             \n",
    "2. CHANGABLE:- The list is changeable, meaning that we can change, add, and remove items in a list after it has been created.\n",
    "\n",
    "3. ALLOW DUPLICATE VALUES:- Since lists are indexed, lists can have items with the same value.\n",
    "\"\"\"\n",
    "\n",
    "thislist = ['apple', 'banana', 'banana','apple']\n",
    "print(thislist)"
   ]
  },
  {
   "cell_type": "code",
   "execution_count": 6,
   "id": "7070247d",
   "metadata": {},
   "outputs": [
    {
     "name": "stdout",
     "output_type": "stream",
     "text": [
      "4\n"
     ]
    }
   ],
   "source": [
    "#List Length :- To determine the length of the list use len() function\n",
    "print(len(thislist))"
   ]
  },
  {
   "cell_type": "code",
   "execution_count": 8,
   "id": "ebc4b416",
   "metadata": {},
   "outputs": [
    {
     "name": "stdout",
     "output_type": "stream",
     "text": [
      "<class 'list'>\n",
      "<class 'list'>\n"
     ]
    }
   ],
   "source": [
    "#LIST ITEMS DATA TYPES\n",
    "\"\"\"\n",
    "List item can be of any data type: int, boolean, string ..\n",
    "A List can also contain different datatypes.\n",
    "\"\"\"\n",
    "\n",
    "list1 = [\"apple\", \"banana\", \"cherry\"]  #list of String data type\n",
    "list2 = [1, 5, 7, 9, 3]                #list of INT data type\n",
    "list3 = [True, False, False]           #list of Boolean data type\n",
    "\n",
    "# A list with strings, integers and boolean values:\n",
    "\n",
    "list4 = [\"abc\", 34, True, 40, \"male\"]\n",
    "\n",
    "print(type(list4))  \n",
    "\n",
    "#Type() used to determine data type, From Python's perspective, lists are defined as objects with the data type 'list'"
   ]
  },
  {
   "cell_type": "code",
   "execution_count": 9,
   "id": "874a8a32",
   "metadata": {},
   "outputs": [
    {
     "name": "stdout",
     "output_type": "stream",
     "text": [
      "['apple', 'banana', 'cherry']\n"
     ]
    }
   ],
   "source": [
    "# The list() Constructor\n",
    "\"\"\"\n",
    "It is also possible to use the list() constructor when creating a new list.\n",
    "\n",
    "Using the list() constructor to make a List:\n",
    "\"\"\"\n",
    "\n",
    "thislist = list((\"apple\", \"banana\", \"cherry\")) # note the double round-brackets\n",
    "print(thislist)"
   ]
  },
  {
   "cell_type": "code",
   "execution_count": 18,
   "id": "61c1a7ca",
   "metadata": {},
   "outputs": [
    {
     "name": "stdout",
     "output_type": "stream",
     "text": [
      "Positive indexing\n",
      "89\n",
      "Negative indexing\n",
      "65\n",
      "[3, 6, 5]\n",
      "[65, 32, 96]\n",
      "True\n"
     ]
    }
   ],
   "source": [
    "# ACCESS LIST ITEMS\n",
    "\n",
    "\"\"\"\n",
    "List items are indexed and you can access them by referring to the index number\n",
    "\"\"\"\n",
    "mylist = [1,2,3,6,5,9,8,89,5,64,65,32,96,20]\n",
    "print(\"Positive indexing\")\n",
    "print(mylist[7])  #Here Note that index starts from 0\n",
    "\n",
    "\n",
    "# Negative Indexing\n",
    "\"\"\"\n",
    "Negative indexing means start from the end\n",
    "-1 refers to the last item, -2 refers to the second last item etc.\n",
    "\"\"\"\n",
    "print(\"Negative indexing\")\n",
    "print(mylist[-4])\n",
    "\n",
    "# Range of Indexes\n",
    "\"\"\"\n",
    "You can specify a range of indexes by specifying where to start and where to end the range.\n",
    "\n",
    "When specifying a range, the return value will be a new list with the specified items.\n",
    "Return the third, fourth, and fifth item, Note: The search will start at index 2 (included) and end at index 5 (not included).\n",
    "\"\"\"\n",
    "print(mylist[2:5])\n",
    "\n",
    "#Range of Negative indexes.\n",
    "\"\"\"\n",
    "Specify negative indexes if you want to start the search from the end of the list.\n",
    "\n",
    "This example returns the items from (-4) to, but NOT including  (-1):\n",
    "\"\"\"\n",
    "print(mylist[-4:-1])\n",
    "\n",
    "#Chceck if item Exists in the list,(Here we use \"\"\" in \"\"\" operator as below).\n",
    "\n",
    "if 65 in mylist:\n",
    "    print(True)"
   ]
  },
  {
   "cell_type": "code",
   "execution_count": 4,
   "id": "f90b3413",
   "metadata": {},
   "outputs": [
    {
     "name": "stdout",
     "output_type": "stream",
     "text": [
      "['Papaya', 'Apple', 'Banana', 'Kiwi']\n",
      "['apple', 'blackcurrant', 'watermelon', 'orange', 'kiwi', 'mango']\n"
     ]
    }
   ],
   "source": [
    "#     CHANGE LIST ITEMS\n",
    "\n",
    "#Change Item value:-  to change value of specific item, refer to index number\n",
    "\n",
    "thislist = [\"mango\",\"Apple\",\"Banana\",\"Kiwi\"]\n",
    "thislist[0] = \"Papaya\"\n",
    "print(thislist)\n",
    "\n",
    "\n",
    "#Change a Range of Item Values:- \n",
    "\"\"\"\n",
    "To change the value of items within a specific range, \n",
    "define a list with the new values, and refer to the range of index numbers where you want to insert the new values:\n",
    "\"\"\"\n",
    "thislist = [\"apple\", \"banana\", \"cherry\", \"orange\", \"kiwi\", \"mango\"]\n",
    "     #Change the values \"banana\" and \"cherry\" with the values \"blackcurrant\" and \"watermelon\"\n",
    "thislist[1:3] = [\"blackcurrant\", \"watermelon\"]\n",
    "print(thislist)\n",
    "\n",
    "\n",
    "#Note: The length of the list will change when the number of items inserted does not match the number of items replaced."
   ]
  },
  {
   "cell_type": "code",
   "execution_count": 7,
   "id": "2aaed5bd",
   "metadata": {},
   "outputs": [
    {
     "name": "stdout",
     "output_type": "stream",
     "text": [
      "[10, 20, 30, 40, 50, 'manu']\n"
     ]
    }
   ],
   "source": [
    "#       PYTHON - ADD LIST ITEMS \n",
    "\"\"\"\n",
    "\n",
    "append()\n",
    "insert()\n",
    "extend()\n",
    "To add an item to the end of the list, use the append() method:\n",
    "\"\"\"\n",
    "\n",
    "mylist = [10,20,30,40,50]\n",
    "mylist.append(\"manu\")\n",
    "print(mylist)\n",
    "\n"
   ]
  },
  {
   "cell_type": "code",
   "execution_count": 5,
   "id": "a4066d14",
   "metadata": {},
   "outputs": [
    {
     "name": "stdout",
     "output_type": "stream",
     "text": [
      "['apple', 'banana', 'watermelon', 'cherry']\n"
     ]
    }
   ],
   "source": [
    "#    Insert Items\n",
    "\"\"\"\n",
    "To insert a new list item, without replacing any of the existing values, we can use the insert() method.\n",
    "The insert() method inserts an item at the specified index\n",
    "\"\"\"\n",
    "thislist = [\"apple\", \"banana\", \"cherry\"]\n",
    "thislist.insert(2, \"watermelon\")\n",
    "print(thislist) #Now list contains four items"
   ]
  },
  {
   "cell_type": "code",
   "execution_count": 9,
   "id": "27479a6a",
   "metadata": {},
   "outputs": [
    {
     "name": "stdout",
     "output_type": "stream",
     "text": [
      "['apple', 'banana', 'cherry']\n",
      "['apple', 'banana', 'cherry', 'mango', 'pineapple', 'papaya']\n"
     ]
    }
   ],
   "source": [
    "# Extend List Items\n",
    "\"\"\"\n",
    "To append elements from another list to the current list, use the extend() method.\n",
    "\n",
    "The extend() method does not have to append lists, you can add any iterable object (tuples, sets, dictionaries etc.).\n",
    "\n",
    "Add the elements of tropical to thislist:\n",
    "\"\"\"\n",
    "\n",
    "thislist = [\"apple\", \"banana\", \"cherry\"]\n",
    "print(thislist)\n",
    "tropical = [\"mango\", \"pineapple\", \"papaya\"]\n",
    "thislist.extend(tropical)\n",
    "print(thislist)"
   ]
  },
  {
   "cell_type": "code",
   "execution_count": 11,
   "id": "4880d56d",
   "metadata": {},
   "outputs": [
    {
     "name": "stdout",
     "output_type": "stream",
     "text": [
      "['manu', 'swathi', 'saanvi', 'varun']\n",
      "['manu', 'saanvi', 'varun']\n",
      "['manu', 'varun']\n"
     ]
    }
   ],
   "source": [
    "# PYTHON - REMOVE ITEMS \n",
    "\n",
    "#Remove Specified Item\n",
    "\"\"\"\n",
    "remove() method is used to remove the specified item.\n",
    "\"\"\"\n",
    "mylist = ['manu','swathi','saanvi','varun']\n",
    "print(mylist)\n",
    "mylist.remove('swathi')\n",
    "print(mylist)\n",
    "\n",
    "\n",
    "#Remove Specified Index\n",
    "\"\"\"\n",
    "pop() method used to remove item at specified index, If we do not specify the index pop() will remove last item.\n",
    "\"\"\"\n",
    "mylist.pop(1)\n",
    "print(mylist)\n",
    "\n",
    "#del keyword can be used ti delete the specified index item or to dleelte entire list.\n",
    "\n",
    "#del mylist[1]\n",
    "#del mylist"
   ]
  },
  {
   "cell_type": "code",
   "execution_count": 12,
   "id": "24051c7c",
   "metadata": {},
   "outputs": [
    {
     "name": "stdout",
     "output_type": "stream",
     "text": [
      "[]\n"
     ]
    }
   ],
   "source": [
    "# Python List - Clear() method\n",
    "\"\"\"\n",
    "The clear() method empties the list.\n",
    "The list still remains, but it has no content.\n",
    "\"\"\"\n",
    "\n",
    "thislist = [\"apple\", \"banana\", \"cherry\"]\n",
    "thislist.clear()\n",
    "print(thislist)"
   ]
  },
  {
   "cell_type": "code",
   "execution_count": 16,
   "id": "b050e4af",
   "metadata": {},
   "outputs": [
    {
     "name": "stdout",
     "output_type": "stream",
     "text": [
      "apple\n",
      "banana\n",
      "cherry\n"
     ]
    }
   ],
   "source": [
    "#    PYTHON LOOP A LIST\n",
    "\n",
    "\"\"\"\n",
    "we can loop through list items using for loops\n",
    "example: printing all items in a list\n",
    "\"\"\"\n",
    "thislist = [\"apple\", \"banana\", \"cherry\"]\n",
    "for x in thislist:\n",
    "  print(x)\n",
    "\n",
    "\n"
   ]
  },
  {
   "cell_type": "code",
   "execution_count": 17,
   "id": "1107602d",
   "metadata": {},
   "outputs": [
    {
     "name": "stdout",
     "output_type": "stream",
     "text": [
      "apple\n",
      "banana\n",
      "cherry\n"
     ]
    }
   ],
   "source": [
    "#Loop through index Number\n",
    "\"\"\"\n",
    "You can also loop through the list items by referring to their index number.\n",
    "Use the range() and len() functions to create a suitable iterable\n",
    "\"\"\"\n",
    "\n",
    "thislist = [\"apple\", \"banana\", \"cherry\"]\n",
    "for i in range(len(thislist)):\n",
    "  print(thislist[i])"
   ]
  },
  {
   "cell_type": "code",
   "execution_count": 18,
   "id": "ed3df2ed",
   "metadata": {},
   "outputs": [
    {
     "name": "stdout",
     "output_type": "stream",
     "text": [
      "apple\n",
      "banana\n",
      "cherry\n"
     ]
    }
   ],
   "source": [
    "#Using while loop in the list\n",
    "\"\"\" \n",
    "You can loop through the list items by using a while loop.\n",
    "Use the len() function to determine the length of the list, \n",
    "then start at 0 and loop your way through the list items by referring to their indexes.\n",
    "Remember to increase the index by 1 after each iteration.\n",
    "\n",
    "\"\"\"\n",
    "\n",
    "thislist = [\"apple\", \"banana\", \"cherry\"]\n",
    "i = 0\n",
    "while i < len(thislist):\n",
    "  print(thislist[i])\n",
    "  i = i + 1\n",
    "\n",
    "\n"
   ]
  },
  {
   "cell_type": "code",
   "execution_count": 19,
   "id": "908140ae",
   "metadata": {},
   "outputs": [
    {
     "name": "stdout",
     "output_type": "stream",
     "text": [
      "['apple', 'banana', 'mango']\n",
      "['apple', 'banana', 'mango']\n"
     ]
    }
   ],
   "source": [
    "# LIST COMPREHENSION   \n",
    "\"\"\"\n",
    "List comprehension offers a shorter syntax when you want to create a new list based on the values of an existing list.\n",
    "Example:\n",
    "Based on a list of fruits, you want a new list, containing only the fruits with the letter \"a\" in the name.\n",
    "Without list comprehension you will have to write a for statement with a conditional test inside:\n",
    "\"\"\"\n",
    "fruits = [\"apple\", \"banana\", \"cherry\", \"kiwi\", \"mango\"]\n",
    "newlist = []\n",
    "\n",
    "for x in fruits:\n",
    "  if \"a\" in x:\n",
    "    newlist.append(x)\n",
    "\n",
    "print(newlist)\n",
    "\n",
    "#With list comprehension we can do all of the above in one line of code.\n",
    "\n",
    "\n"
   ]
  },
  {
   "cell_type": "code",
   "execution_count": 1,
   "id": "bb601f22",
   "metadata": {},
   "outputs": [
    {
     "name": "stdout",
     "output_type": "stream",
     "text": [
      "['apple', 'banana', 'mango']\n"
     ]
    }
   ],
   "source": [
    "#list comprehension example\n",
    "\"\"\"\n",
    "The Syntax: \n",
    "\n",
    "newlist = [expression for item in iterable if condition == True]\n",
    "\n",
    "The return value is a new list, leaving the old list unchanged.\n",
    "\"\"\"\n",
    "fruits = [\"apple\", \"banana\", \"cherry\", \"kiwi\", \"mango\"]\n",
    "newlist = [x for x in fruits if \"a\" in x]\n",
    "print(newlist)"
   ]
  },
  {
   "cell_type": "code",
   "execution_count": 5,
   "id": "3aba1f16",
   "metadata": {},
   "outputs": [
    {
     "name": "stdout",
     "output_type": "stream",
     "text": [
      "['anjana', 'manoj', 'saanvi', 'srinivasa', 'swathi']\n",
      "[0, 0, 0, 0, 1, 3, 3, 4, 5, 5, 6, 6, 9, 9, 10, 90]\n",
      "[90, 10, 9, 9, 6, 6, 5, 5, 4, 3, 3, 1, 0, 0, 0, 0]\n"
     ]
    }
   ],
   "source": [
    "#Python Sort Lists\n",
    "\n",
    "'''\n",
    "Sorting is used to make elements or items in order.\n",
    "'''\n",
    "#Sort the list Alphanumerically\n",
    "thislist = ['manoj','swathi','saanvi','anjana','srinivasa']\n",
    "thislist.sort()\n",
    "print(thislist)\n",
    "\n",
    "#sort the list numerically\n",
    "numlist = [1,0,9,6,3,4,5,10,90,0,0,3,0,9,5,6]\n",
    "numlist.sort()\n",
    "print(numlist)\n",
    "\n",
    "#sort in descending order\n",
    "numlist2 = numlist  #this is not copying of list, numlist2 is simply referencing to numlist, changes made to  numlist will directly refelect in num2list\n",
    "numlist2.sort(reverse = True)\n",
    "print(numlist2)"
   ]
  },
  {
   "cell_type": "code",
   "execution_count": 6,
   "id": "09fe59cb",
   "metadata": {},
   "outputs": [
    {
     "name": "stdout",
     "output_type": "stream",
     "text": [
      "['cherry', 'Kiwi', 'Orange', 'banana']\n"
     ]
    }
   ],
   "source": [
    "'''\n",
    "The reverse() method reverses the current sorting order of the elements.\n",
    "'''\n",
    "thislist = [\"banana\", \"Orange\", \"Kiwi\", \"cherry\"]\n",
    "thislist.reverse()\n",
    "print(thislist)"
   ]
  },
  {
   "cell_type": "code",
   "execution_count": 9,
   "id": "a324b263",
   "metadata": {},
   "outputs": [
    {
     "name": "stdout",
     "output_type": "stream",
     "text": [
      "['praveen', 'praful', 'kumar', 'root', 'manoj']\n",
      "['praveen', 'praful', 'kumar', 'root', 'Saanvi']\n"
     ]
    }
   ],
   "source": [
    "#Copy a List\n",
    "'''\n",
    "You cannot copy a list simply by typing list2 = list1, because: list2 will only be a reference to list1,\n",
    "and changes made in list1 will automatically also be made in list2.\n",
    "\n",
    "There are ways to make a copy, one way is to use the built-in List method copy()\n",
    "'''\n",
    "thislist1 = ['praveen','praful','kumar','root'] \n",
    "thislist2 = thislist1.copy()\n",
    "\n",
    "thislist1.append('manoj')\n",
    "\n",
    "thislist2.append('Saanvi')\n",
    "\n",
    "print(thislist1)\n",
    "print(thislist2)\n",
    "\n",
    "\n",
    "#Another way to make a copy is to use the built-in method list(). Usageis same as copy"
   ]
  },
  {
   "cell_type": "code",
   "execution_count": 10,
   "id": "8b1df527",
   "metadata": {},
   "outputs": [
    {
     "name": "stdout",
     "output_type": "stream",
     "text": [
      "['manoj', 'saanvi', 1, 3, 4, 6]\n"
     ]
    }
   ],
   "source": [
    "#joining two lists\n",
    "list1 = ['manoj','saanvi']\n",
    "list2 = [1,3,4,6]\n",
    "list3 = list1 + list2\n",
    "print(list3)"
   ]
  },
  {
   "cell_type": "code",
   "execution_count": null,
   "id": "4fffeee0",
   "metadata": {},
   "outputs": [],
   "source": [
    "#List Methods\n",
    "\n",
    "'''\n",
    "Method     Description\n",
    "append()   Adds an element at the end of the list\n",
    "clear()    Removes all the elements from the list\n",
    "copy()     Returns a copy of the list\n",
    "count()    Returns the number of elements with the specified value\n",
    "extend()   Add the elements of a list (or any iterable), to the end of the current list\n",
    "index()    Returns the index of the first element with the specified value\n",
    "insert()   Adds an element at the specified position\n",
    "pop()      Removes the element at the specified position\n",
    "remove()   Removes the item with the specified value\n",
    "reverse()  Reverses the order of the list\n",
    "sort()     Sorts the list\n",
    "'''\n",
    "\n"
   ]
  }
 ],
 "metadata": {
  "kernelspec": {
   "display_name": "Python 3 (ipykernel)",
   "language": "python",
   "name": "python3"
  },
  "language_info": {
   "codemirror_mode": {
    "name": "ipython",
    "version": 3
   },
   "file_extension": ".py",
   "mimetype": "text/x-python",
   "name": "python",
   "nbconvert_exporter": "python",
   "pygments_lexer": "ipython3",
   "version": "3.9.7"
  }
 },
 "nbformat": 4,
 "nbformat_minor": 5
}
