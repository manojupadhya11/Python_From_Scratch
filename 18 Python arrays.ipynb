{
 "cells": [
  {
   "cell_type": "code",
   "execution_count": 1,
   "id": "87d074b5",
   "metadata": {},
   "outputs": [],
   "source": [
    "##   Note: Python does not have built-in support for Arrays, but Python Lists can be used instead."
   ]
  },
  {
   "cell_type": "code",
   "execution_count": 2,
   "id": "577a79e1",
   "metadata": {},
   "outputs": [
    {
     "name": "stdout",
     "output_type": "stream",
     "text": [
      "['BMW', 'Benz', 'Hyundai']\n"
     ]
    }
   ],
   "source": [
    "#Arrays\n",
    "'''\n",
    "This page shows you how to use LISTS as ARRAYS, \n",
    "however, to work with arrays in Python you will have to import a library, like the NumPy library.\n",
    "Arrays are used to store multiple values in one single variable:\n",
    "'''\n",
    "#Create an array containing cars name\n",
    "cars = ['BMW', 'Benz','Hyundai']\n",
    "print(cars)"
   ]
  },
  {
   "cell_type": "code",
   "execution_count": null,
   "id": "b1248d29",
   "metadata": {},
   "outputs": [],
   "source": [
    "\"\"\"\n",
    "What is an Array?\n",
    "An array is a special variable, which can hold more than one value at a time.\n",
    "\n",
    "If you have a list of items (a list of car names, for example), storing the cars in single variables could look like this:\n",
    "\n",
    "car1 = \"Ford\"\n",
    "car2 = \"Volvo\"\n",
    "car3 = \"BMW\"\n",
    "However, what if you want to loop through the cars and find a specific one? And what if you had not 3 cars, but 300?\n",
    "\n",
    "The solution is an array!\n",
    "\n",
    "An array can hold many values under a single name, and you can access the values by referring to an index number.\n",
    "\"\"\""
   ]
  },
  {
   "cell_type": "code",
   "execution_count": 7,
   "id": "42472bb2",
   "metadata": {},
   "outputs": [
    {
     "name": "stdout",
     "output_type": "stream",
     "text": [
      "BMW\n",
      "Car array before modifications\n",
      "['BEnz', 'GTR', 'Ford']\n",
      "Car array after modification\n",
      "['Audi', 'GTR', 'Ford']\n"
     ]
    }
   ],
   "source": [
    "#Accesing the elements of array :- using index number we need to access element of an array\n",
    "print(cars[0])\n",
    "\n",
    "# we can also modify the contetns of an array using index number\n",
    "car = [\"BEnz\",\"GTR\",\"Ford\"]\n",
    "print(\"Car array before modifications\")\n",
    "print(car)\n",
    "car[0] = 'Audi'\n",
    "print(\"Car array after modification\")\n",
    "print(car)"
   ]
  },
  {
   "cell_type": "code",
   "execution_count": 10,
   "id": "df6a9ecb",
   "metadata": {},
   "outputs": [
    {
     "data": {
      "text/plain": [
       "3"
      ]
     },
     "execution_count": 10,
     "metadata": {},
     "output_type": "execute_result"
    }
   ],
   "source": [
    "#Length of an Array:- Use the len() method to return the length of an array (the number of elements in an array).\n",
    "len(cars)"
   ]
  },
  {
   "cell_type": "code",
   "execution_count": 11,
   "id": "bab6adbf",
   "metadata": {},
   "outputs": [
    {
     "name": "stdout",
     "output_type": "stream",
     "text": [
      "BMW\n",
      "Benz\n",
      "Hyundai\n"
     ]
    }
   ],
   "source": [
    "#Looping array elements\n",
    "for x in cars:\n",
    "    print(x)"
   ]
  },
  {
   "cell_type": "code",
   "execution_count": 12,
   "id": "00bba4cd",
   "metadata": {},
   "outputs": [
    {
     "name": "stdout",
     "output_type": "stream",
     "text": [
      "['Benz', 'BMW', 'Suzuki']\n"
     ]
    }
   ],
   "source": [
    "#Adding an elements in array\n",
    "#You can use the append() method to add an element to an array.\n",
    "cars = ['Benz','BMW']\n",
    "#adding one more element to cars array\n",
    "cars.append('Suzuki')\n",
    "print(cars)"
   ]
  },
  {
   "cell_type": "code",
   "execution_count": 13,
   "id": "4d5eb7bb",
   "metadata": {},
   "outputs": [
    {
     "name": "stdout",
     "output_type": "stream",
     "text": [
      "['Benz', 'Suzuki']\n"
     ]
    }
   ],
   "source": [
    "#Removing elements from an array, we use index number to remove the elements and pop() method to delete item\n",
    "\n",
    "cars.pop(1)\n",
    "print(cars)\n"
   ]
  },
  {
   "cell_type": "code",
   "execution_count": 14,
   "id": "4f0ed2b3",
   "metadata": {},
   "outputs": [
    {
     "name": "stdout",
     "output_type": "stream",
     "text": [
      "['Benz']\n"
     ]
    }
   ],
   "source": [
    "#we can also remove(\"item name\") method to delete the elemen from an array\n",
    "\n",
    "cars.remove(\"Suzuki\")\n",
    "print(cars)\n",
    "#Note: The list's remove() method only removes the first occurrence of the specified value."
   ]
  },
  {
   "cell_type": "code",
   "execution_count": null,
   "id": "40e8ecef",
   "metadata": {},
   "outputs": [],
   "source": []
  }
 ],
 "metadata": {
  "kernelspec": {
   "display_name": "Python 3 (ipykernel)",
   "language": "python",
   "name": "python3"
  },
  "language_info": {
   "codemirror_mode": {
    "name": "ipython",
    "version": 3
   },
   "file_extension": ".py",
   "mimetype": "text/x-python",
   "name": "python",
   "nbconvert_exporter": "python",
   "pygments_lexer": "ipython3",
   "version": "3.9.7"
  }
 },
 "nbformat": 4,
 "nbformat_minor": 5
}
