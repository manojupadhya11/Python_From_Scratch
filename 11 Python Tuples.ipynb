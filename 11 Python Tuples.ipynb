{
 "cells": [
  {
   "cell_type": "code",
   "execution_count": 1,
   "id": "2aed1cf1",
   "metadata": {},
   "outputs": [
    {
     "name": "stdout",
     "output_type": "stream",
     "text": [
      "('apple', 'banana', 'kiwi')\n",
      "<class 'tuple'>\n"
     ]
    }
   ],
   "source": [
    "#Python Tuples\n",
    "'''\n",
    "uples are used to store multiple items in a single variable.\n",
    "\n",
    "Tuple is one of 4 built-in data types in Python used to store collections of data,\n",
    "the other 3 are List, Set, and Dictionary, all with different qualities and usage.\n",
    "\n",
    "A tuple is a collection which is ordered and unchangeable.\n",
    "\n",
    "Tuples are written with round brackets.\n",
    "'''\n",
    "thistuple = (\"apple\",\"banana\",\"kiwi\")\n",
    "print(thistuple)\n",
    "print(type(thistuple))"
   ]
  },
  {
   "cell_type": "code",
   "execution_count": 3,
   "id": "395bc7de",
   "metadata": {},
   "outputs": [
    {
     "name": "stdout",
     "output_type": "stream",
     "text": [
      "('apple', 'apple', 'kiwi', 'kiwi')\n",
      "4\n"
     ]
    }
   ],
   "source": [
    "\"\"\"\n",
    "Tuple Items\n",
    "Tuple items are ordered, unchangeable, and allow duplicate values.\n",
    "\n",
    "Tuple items are indexed, the first item has index [0], the second item has index [1] etc.\n",
    "\n",
    "Ordered\n",
    "When we say that tuples are ordered, it means that the items have a defined order, and that order will not change.\n",
    "\n",
    "Unchangeable\n",
    "Tuples are unchangeable, meaning that we cannot change, add or remove items after the tuple has been created.\n",
    "\n",
    "Allow Duplicates\n",
    "Since tuples are indexed, they can have items with the same value:\n",
    "\"\"\"\n",
    "thistuple=(\"apple\",\"apple\",\"kiwi\",\"kiwi\")\n",
    "print(thistuple)\n",
    "\n",
    "#length\n",
    "print(len(thistuple))"
   ]
  },
  {
   "cell_type": "code",
   "execution_count": 6,
   "id": "a3b1fbb2",
   "metadata": {},
   "outputs": [
    {
     "name": "stdout",
     "output_type": "stream",
     "text": [
      "('apple',)\n",
      "<class 'tuple'>\n",
      "apple\n",
      "<class 'str'>\n"
     ]
    }
   ],
   "source": [
    "#Create tiple with one item\n",
    "'''\n",
    "To create a tuple with only one item, you have to add a comma after the item, \n",
    "otherwise Python will not recognize it as a tuple.\n",
    "Example\n",
    "'''\n",
    "thistuple = (\"apple\",)\n",
    "print(thistuple)\n",
    "print(type(thistuple))\n",
    "\n",
    "#NOT a tuple\n",
    "thistuple2 = (\"apple\")\n",
    "print(thistuple2)\n",
    "print(type(thistuple2))"
   ]
  },
  {
   "cell_type": "code",
   "execution_count": 7,
   "id": "7c7710fc",
   "metadata": {},
   "outputs": [],
   "source": [
    "#A tuple can be of any datatype and even a single tuple can contain items of multiple datatype\n"
   ]
  },
  {
   "cell_type": "code",
   "execution_count": 8,
   "id": "b0ff9d81",
   "metadata": {},
   "outputs": [
    {
     "name": "stdout",
     "output_type": "stream",
     "text": [
      "('apple', 'banana', 'cherry')\n"
     ]
    }
   ],
   "source": [
    "#Tuple Constructor\n",
    "'''\n",
    "It is also possible to use the tuple() constructor to make a tuple.\n",
    "Example\n",
    "Using the tuple() method to make a tuple:\n",
    "'''\n",
    "thistuple = tuple((\"apple\", \"banana\", \"cherry\")) # note the double round-brackets\n",
    "print(thistuple)"
   ]
  },
  {
   "cell_type": "code",
   "execution_count": 10,
   "id": "060fd444",
   "metadata": {},
   "outputs": [
    {
     "name": "stdout",
     "output_type": "stream",
     "text": [
      "Saanvi\n",
      "Varun\n"
     ]
    }
   ],
   "source": [
    "#Access Tuples\n",
    "'''\n",
    "You can access tuple items by referring to the index number, inside square brackets:\n",
    "\n",
    "the first item will be hvaing index 0\n",
    "'''\n",
    "mytuple = (\"Manoj\",\"Anjana\",\"Anu\",\"Saanvi\",\"Swathi\",\"Srinivas\",\"Varun\")\n",
    "print(mytuple[3])\n",
    "\n",
    "#Negative indexing will print the tuple items from last negative index starts from -1\n",
    "print(mytuple[-1])"
   ]
  },
  {
   "cell_type": "code",
   "execution_count": 24,
   "id": "e32c5888",
   "metadata": {},
   "outputs": [
    {
     "name": "stdout",
     "output_type": "stream",
     "text": [
      "('Anu', 'Saanvi', 'Swathi', 'Srinivas', 'Varun')\n",
      "('Manoj', 'Anjana', 'Anu', 'Saanvi', 'Swathi')\n",
      "('Anu', 'Saanvi', 'Swathi')\n",
      "('Saanvi', 'Swathi')\n",
      "('Anu', 'Saanvi', 'Swathi')\n"
     ]
    }
   ],
   "source": [
    "#Range of Indexes\n",
    "'''\n",
    "You can specify a range of indexes by specifying where to start and where to end the range.\n",
    "\n",
    "When specifying a range, the return value will be a new tuple with the specified items.\n",
    "'''\n",
    "print(mytuple[2:])\n",
    "print(mytuple[:5])\n",
    "print(mytuple[2:5]) #2 to 4 not including 5\n",
    "print(mytuple[3:-2])\n",
    "print(mytuple[-5:-2])\n"
   ]
  },
  {
   "cell_type": "code",
   "execution_count": 26,
   "id": "98d5bc05",
   "metadata": {},
   "outputs": [
    {
     "name": "stdout",
     "output_type": "stream",
     "text": [
      "('manoj', 'kiwi', 'Orange')\n",
      "['manoj', 'mahima', 'Orange']\n",
      "('manoj', 'mahima', 'Orange')\n"
     ]
    }
   ],
   "source": [
    "#Python Update tuples \n",
    "'''\n",
    "Tuples are unchangeable, meaning that you cannot change, add, or remove items once the tuple is created.\n",
    "\n",
    "But there are some work arounds.\n",
    "\n",
    "Change Tuple Values\n",
    "Once a tuple is created, you cannot change its values. Tuples are unchangeable, or immutable as it also is called.\n",
    "\n",
    "But there is a workaround. You can convert the tuple into a list, change the list, and convert the list back into a tuple.\n",
    "'''\n",
    "#Convert the tuple into list make change and conver list back into tuple \n",
    "thistuple = (\"manoj\",\"kiwi\",\"Orange\")\n",
    "print(thistuple)\n",
    "x = list(thistuple)\n",
    "x[1] = \"mahima\"\n",
    "print(x)\n",
    "thistuple = tuple(x)\n",
    "print(thistuple)"
   ]
  },
  {
   "cell_type": "code",
   "execution_count": 29,
   "id": "16e9e88f",
   "metadata": {},
   "outputs": [
    {
     "name": "stdout",
     "output_type": "stream",
     "text": [
      "('apple', 'banana', 'cherry', 'orange')\n",
      "('apple', 'banana', 'cherry', 'orange')\n"
     ]
    }
   ],
   "source": [
    "#Adding items into tuples\n",
    "'''\n",
    "Since tuples are immutable, they do not have a built-in append() method, but there are other ways to add items to a tuple.\n",
    "\n",
    "1. Convert into a list: Just like the workaround for changing a tuple, you can convert it into a list,\n",
    "add your item(s), and convert it back into a tuple.\n",
    "\n",
    "Example\n",
    "Convert the tuple into a list, add \"orange\", and convert it back into a tuple:\n",
    "'''\n",
    "\n",
    "thistuple = (\"apple\", \"banana\", \"cherry\")\n",
    "y = list(thistuple)\n",
    "y.append(\"orange\")\n",
    "thistuple = tuple(y)\n",
    "print(thistuple)\n",
    "\n",
    "'''\n",
    "2. Add tuple to a tuple. You are allowed to add tuples to tuples, so if you want to add one item, \n",
    "(or many), create a new tuple with the item(s), and add it to the existing tuple:\n",
    "\n",
    "Example\n",
    "Create a new tuple with the value \"orange\", and add that tuple:\n",
    "'''\n",
    "thistuple = (\"apple\", \"banana\", \"cherry\")\n",
    "y = (\"orange\",)\n",
    "thistuple += y\n",
    "\n",
    "print(thistuple)\n"
   ]
  },
  {
   "cell_type": "code",
   "execution_count": 32,
   "id": "13065ad6",
   "metadata": {},
   "outputs": [
    {
     "name": "stdout",
     "output_type": "stream",
     "text": [
      "('banana', 'cherry')\n"
     ]
    }
   ],
   "source": [
    "#remove items from tuple\n",
    "'''\n",
    "1.  Same as bove convert tuple to list, then delete item then conver remaining list back to tuple remove()\n",
    "2. or we can delete entire tuple using del keyword\n",
    "'''\n",
    "thistuple = (\"apple\", \"banana\", \"cherry\")\n",
    "y = list(thistuple)\n",
    "y.remove(\"apple\")\n",
    "thistuple = tuple(y)\n",
    "print(thistuple)\n",
    "\n",
    "#2.   \n",
    "del thistuple\n",
    "print(thistuple) #this will raise an error because the tuple no longer exists"
   ]
  },
  {
   "cell_type": "code",
   "execution_count": 33,
   "id": "c385a529",
   "metadata": {},
   "outputs": [
    {
     "name": "stdout",
     "output_type": "stream",
     "text": [
      "apple\n",
      "banana\n",
      "cherry\n"
     ]
    }
   ],
   "source": [
    "###    Unpacking a Tuple\n",
    "\n",
    "'''When we create a tuple, we normally assign values to it. This is called \"packing\" a tuple:\n",
    "\n",
    "Example\n",
    "Packing a tuple:\n",
    "'''\n",
    "fruits = (\"apple\", \"banana\", \"cherry\")\n",
    "\n",
    "'''But, in Python, we are also allowed to extract the values back into variables. This is called \"unpacking\":\n",
    "\n",
    "Example\n",
    "Unpacking a tuple:\n",
    "'''\n",
    "fruits = (\"apple\", \"banana\", \"cherry\")\n",
    "\n",
    "(green, yellow, red) = fruits\n",
    "\n",
    "print(green)\n",
    "print(yellow)\n",
    "print(red)\n"
   ]
  },
  {
   "cell_type": "code",
   "execution_count": 34,
   "id": "407e7a53",
   "metadata": {},
   "outputs": [
    {
     "name": "stdout",
     "output_type": "stream",
     "text": [
      "apple\n",
      "banana\n",
      "cherry\n"
     ]
    }
   ],
   "source": [
    "#Loop through TUple\n",
    "#We can loop through a tuple using for and while loop\n",
    "#Iterate through items \n",
    "thistuple = (\"apple\", \"banana\", \"cherry\")\n",
    "for x in thistuple:\n",
    "  print(x)"
   ]
  },
  {
   "cell_type": "code",
   "execution_count": 38,
   "id": "bac4ee76",
   "metadata": {},
   "outputs": [
    {
     "name": "stdout",
     "output_type": "stream",
     "text": [
      "apple\n",
      "banana\n",
      "cherry\n"
     ]
    }
   ],
   "source": [
    "#iterate through index numbers and print items  Use the range() and len() functions to create a suitable iterable.\n",
    "thistuple = (\"apple\", \"banana\", \"cherry\")\n",
    "for x in range(len(thistuple)):\n",
    "  print(thistuple[x])"
   ]
  },
  {
   "cell_type": "code",
   "execution_count": 41,
   "id": "58747ed4",
   "metadata": {},
   "outputs": [
    {
     "name": "stdout",
     "output_type": "stream",
     "text": [
      "apple\n",
      "banana\n",
      "cherry\n"
     ]
    }
   ],
   "source": [
    "#Iterating through tuple using while loop\n",
    "'''\n",
    "You can loop through the tuple items by using a while loop.\n",
    "\n",
    "Use the len() function to determine the length of the tuple,\n",
    "then start at 0 and loop your way through the tuple items by referring to their indexes.\n",
    "\n",
    "Remember to increase the index by 1 after each iteration.\n",
    "'''\n",
    "thistuple = (\"apple\", \"banana\", \"cherry\")\n",
    "i =0\n",
    "while i <len(thistuple):\n",
    "    print(thistuple[i])\n",
    "    i = i + 1"
   ]
  },
  {
   "cell_type": "code",
   "execution_count": 42,
   "id": "402f18a4",
   "metadata": {},
   "outputs": [
    {
     "name": "stdout",
     "output_type": "stream",
     "text": [
      "('Manoj', 'Saanvi', 'Swathi', 'Anjana')\n"
     ]
    }
   ],
   "source": [
    "#Python join tuples\n",
    "#we use + operator to join two or more tuples\n",
    "\n",
    "tuple1 = (\"Manoj\", \"Saanvi\")\n",
    "tuple2 = (\"Swathi\", \"Anjana\")\n",
    "tuple3 = tuple1 + tuple2 \n",
    "print(tuple3)"
   ]
  },
  {
   "cell_type": "code",
   "execution_count": 43,
   "id": "9de09c49",
   "metadata": {},
   "outputs": [
    {
     "name": "stdout",
     "output_type": "stream",
     "text": [
      "('apple', 'banana', 'cherry', 'apple', 'banana', 'cherry')\n"
     ]
    }
   ],
   "source": [
    "#Multiply tuple\n",
    "#If you want to multiply the content of a tuple a given number of times, you can use the * operator:\n",
    "\n",
    "fruits = (\"apple\", \"banana\", \"cherry\")\n",
    "mytuple = fruits * 2\n",
    "\n",
    "print(mytuple)"
   ]
  },
  {
   "cell_type": "code",
   "execution_count": null,
   "id": "ef9c7236",
   "metadata": {},
   "outputs": [],
   "source": [
    "# tuple Methods\n",
    "'''\n",
    "Python has two built-in methods that you can use on tuples.\n",
    "\n",
    "Method\tDescription\n",
    "count()\tReturns the number of times a specified value occurs in a tuple\n",
    "index()\tSearches the tuple for a specified value and returns the position of where it was found\n",
    "'''"
   ]
  }
 ],
 "metadata": {
  "kernelspec": {
   "display_name": "Python 3 (ipykernel)",
   "language": "python",
   "name": "python3"
  },
  "language_info": {
   "codemirror_mode": {
    "name": "ipython",
    "version": 3
   },
   "file_extension": ".py",
   "mimetype": "text/x-python",
   "name": "python",
   "nbconvert_exporter": "python",
   "pygments_lexer": "ipython3",
   "version": "3.9.7"
  }
 },
 "nbformat": 4,
 "nbformat_minor": 5
}
