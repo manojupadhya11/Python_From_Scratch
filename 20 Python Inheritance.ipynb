{
 "cells": [
  {
   "cell_type": "code",
   "execution_count": null,
   "id": "4d03d4b2",
   "metadata": {},
   "outputs": [],
   "source": [
    "#Python Inheritance\n",
    "\"\"\"\n",
    "Inheritance allows us to define a class that derives all the methods and properties from another class.\n",
    "\n",
    "Parent class is the class being inherited / derived from, also called as base class.\n",
    "\n",
    "child class is the class that inherits method / properties from another class, also called as derived class.\n",
    "\"\"\""
   ]
  },
  {
   "cell_type": "code",
   "execution_count": 1,
   "id": "2ff1c0fd",
   "metadata": {},
   "outputs": [
    {
     "name": "stdout",
     "output_type": "stream",
     "text": [
      "Manoj Upadhya\n"
     ]
    }
   ],
   "source": [
    "#Inheritance basic example\n",
    "#Creation of a Parent class\n",
    "class Parent:\n",
    "    def __init__(self, fname, lname):\n",
    "        self.firstname = fname\n",
    "        self.lastname = lname\n",
    "        \n",
    "    def print_name(self):\n",
    "        print(self.firstname, self.lastname)\n",
    "#Use the Parent class to create an object, and then execute the print_name method:\n",
    "p1 = Parent(\"Manoj\", \"Upadhya\")\n",
    "p1.print_name()\n",
    "\n"
   ]
  },
  {
   "cell_type": "code",
   "execution_count": 5,
   "id": "059293b3",
   "metadata": {},
   "outputs": [
    {
     "name": "stdout",
     "output_type": "stream",
     "text": [
      "Saanvi Mallar\n",
      "Saanvi\n"
     ]
    }
   ],
   "source": [
    "#Creation of child class from Parent class\n",
    "\"\"\"\n",
    "To create a class that inherits the functionality from another class, \n",
    "send the parent class as a parameter when creating the child class:\n",
    "\"\"\"\n",
    "#Now the child class has the same properties and methods as the Parent class.\n",
    "class  Child(Parent):\n",
    "    #pass can be added if we just need to inherit methods and properties of parent class and dont want to implement child class methods\n",
    "    #Below is the new method added to the child class valid only in child class\n",
    "    def print_fname(self):\n",
    "        print(self.firstname)\n",
    "    \n",
    "Y = Child(\"Saanvi\",\"Mallar\")  #Creation of object using child class\n",
    "\n",
    "Y.print_name()\n",
    "Y.print_fname()\n",
    "    "
   ]
  },
  {
   "cell_type": "code",
   "execution_count": 9,
   "id": "3cd44bc3",
   "metadata": {},
   "outputs": [
    {
     "name": "stdout",
     "output_type": "stream",
     "text": [
      "Kumar Manoj\n"
     ]
    }
   ],
   "source": [
    "#ADD the __init__() Function in the child class\n",
    "\"\"\"\n",
    "So far we have created a child class that inherits the properties and methods from its parent.\n",
    "\n",
    "We want to add the __init__() function to the child class (instead of the pass keyword).\n",
    "\n",
    "Note: The __init__() function is called automatically every time the class is being used to create a new object.\n",
    "\"\"\"\n",
    "#here child class overrides the parent class __init__() function.\n",
    "\"\"\"\n",
    "When you add the __init__() function, the child class will no longer inherit the parent's __init__() function.\n",
    "Note: The child's __init__() function overrides the inheritance of the parent's __init__() function.\n",
    "\"\"\"\n",
    "\n",
    "class student(Parent):\n",
    "    def __init__(self, fname,lname):\n",
    "        #add properties\n",
    "        self.fname = fname\n",
    "        self.lname = lname\n",
    "    \n",
    "    def print(self):\n",
    "        print(self.lname,self.fname)\n",
    "        \n",
    "w = student(\"Manoj\",\"Kumar\")\n",
    "w.print()            "
   ]
  },
  {
   "cell_type": "code",
   "execution_count": 15,
   "id": "cfbd1adf",
   "metadata": {},
   "outputs": [
    {
     "name": "stdout",
     "output_type": "stream",
     "text": [
      "Mike Olsen\n"
     ]
    }
   ],
   "source": [
    "#To keep the inheritance of the parent's __init__() function, add a call to the parent's __init__() function:\n",
    "#Parent class\n",
    "class Person:\n",
    "  def __init__(self, fname, lname):\n",
    "    self.firstname = fname\n",
    "    self.lastname = lname\n",
    "\n",
    "  def printname(self):\n",
    "    print(self.firstname, self.lastname)\n",
    "\n",
    "#Child class\n",
    "class Student(Person):\n",
    "  def __init__(self, fname, lname):\n",
    "    Person.__init__(self, fname, lname)\n",
    "\n",
    "x = Student(\"Mike\", \"Olsen\")\n",
    "x.printname()\n",
    "\n",
    "\"\"\"\n",
    "Now we have successfully added the __init__() function,\n",
    "and kept the inheritance of the parent class, and we are ready to add functionality in the __init__() function.\n",
    "\"\"\""
   ]
  },
  {
   "cell_type": "code",
   "execution_count": 17,
   "id": "d4dbab48",
   "metadata": {},
   "outputs": [
    {
     "name": "stdout",
     "output_type": "stream",
     "text": [
      "Mike Olsen\n"
     ]
    }
   ],
   "source": [
    "#Use the super() function\n",
    "\"\"\"\n",
    "Python also has a super() function that will make the child class inherit all the methods and properties from its parent:\n",
    "By using the super() function, you do not have to use the name of the parent element,\n",
    "it will automatically inherit the methods and properties from its parent\n",
    "\"\"\"\n",
    "\n",
    "class Person:\n",
    "  def __init__(self, fname, lname):\n",
    "    self.firstname = fname\n",
    "    self.lastname = lname\n",
    "\n",
    "  def printname(self):\n",
    "    print(self.firstname, self.lastname)\n",
    "\n",
    "#Child class\n",
    "class Student(Person):\n",
    "  def __init__(self, fname, lname):\n",
    "    super().__init__(fname, lname)\n",
    "\n",
    "x = Student(\"Mike\", \"Olsen\")\n",
    "x.printname()\n",
    "\n",
    "\n"
   ]
  },
  {
   "cell_type": "code",
   "execution_count": 26,
   "id": "4b91fc73",
   "metadata": {},
   "outputs": [
    {
     "name": "stdout",
     "output_type": "stream",
     "text": [
      "Welcome Manoj Upadhya To the class of  2015\n"
     ]
    }
   ],
   "source": [
    "#Add MEthods and Properties\n",
    "\n",
    "\"\"\"\n",
    "In the example below, the year 2019 should be a variable, and passed into the Student class when creating student objects.\n",
    "To do so, add another parameter in the __init__() function:\n",
    "\n",
    "If you add a method in the child class with the same name as a function in the parent class, \n",
    "the inheritance of the parent method will be overridden.\n",
    "\n",
    "\n",
    "\"\"\"\n",
    "#Parent class\n",
    "class Person:\n",
    "    def __init__(self,fname,lname):\n",
    "        self.firstname= fname\n",
    "        self.lastname = lname\n",
    "    \n",
    "    def printname(self):\n",
    "        print(self.firstname, self.lastname)\n",
    "\n",
    "#Child class\n",
    "class Student(Person):\n",
    "    def __init__(self,fname,lname,year):\n",
    "        super().__init__(fname,lname)  #Keeping Parent inheritance\n",
    "        self.gradyear = year\n",
    "    \n",
    "    #method within child class\n",
    "    def welcome(self):\n",
    "        print(\"Welcome\",self.firstname,self.lastname,\"To the class of \",self.gradyear)\n",
    "\n",
    "z = Student(\"Manoj\",\"Upadhya\",2015)\n",
    "z.welcome()"
   ]
  },
  {
   "cell_type": "code",
   "execution_count": null,
   "id": "226422bd",
   "metadata": {},
   "outputs": [],
   "source": []
  }
 ],
 "metadata": {
  "kernelspec": {
   "display_name": "Python 3 (ipykernel)",
   "language": "python",
   "name": "python3"
  },
  "language_info": {
   "codemirror_mode": {
    "name": "ipython",
    "version": 3
   },
   "file_extension": ".py",
   "mimetype": "text/x-python",
   "name": "python",
   "nbconvert_exporter": "python",
   "pygments_lexer": "ipython3",
   "version": "3.9.7"
  }
 },
 "nbformat": 4,
 "nbformat_minor": 5
}
